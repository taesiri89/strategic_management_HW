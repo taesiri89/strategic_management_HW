{
 "cells": [
  {
   "cell_type": "markdown",
   "metadata": {},
   "source": [
    "## 2017-1학기 전략경영 hedonic pricing model                \n",
    "  \n",
    "### 경영학과 김태한"
   ]
  },
  {
   "cell_type": "markdown",
   "metadata": {},
   "source": [
    "중고차 데이터(출처 : https://www.kaggle.com/orgesleka/used-cars-database )"
   ]
  },
  {
   "cell_type": "markdown",
   "metadata": {},
   "source": [
    "Over 370,000 used cars were scraped from Ebay-Kleinanzeigen. The content of the data is in German. The data is available [here](https://www.kaggle.com/orgesleka/used-cars-database) The fields included in the file data/autos.csv are:\n",
    "\n",
    "- seller : private or dealer\n",
    "- offerType\n",
    "- vehicleType\n",
    "- yearOfRegistration : at which year the car was first registered\n",
    "- gearbox\n",
    "- powerPS : power of the car in PS\n",
    "- model\n",
    "- kilometer : how many kilometers the car has driven\n",
    "- monthOfRegistration : at which month the car was first registered\n",
    "- fuelType\n",
    "- brand\n",
    "- notRepairedDamage : if the car has a damage which is not repaired yet\n",
    "- price : the price on the ad to sell the car. \n",
    "\n",
    "**Goal**  \n",
    "Given the characteristics/features of the car, the sale price of the car is to be predicted. "
   ]
  },
  {
   "cell_type": "code",
   "execution_count": 18,
   "metadata": {
    "collapsed": true
   },
   "outputs": [],
   "source": [
    "#필요 모듈 불러오기\n",
    "import pandas as pd\n",
    "import statsmodels.api as sm\n",
    "import math\n",
    "import numpy as np\n",
    "#Convert text to numeric using Label Encoding\n",
    "from sklearn import preprocessing"
   ]
  },
  {
   "cell_type": "code",
   "execution_count": 3,
   "metadata": {
    "collapsed": false
   },
   "outputs": [],
   "source": [
    "#데이터 읽기\n",
    "#불러오기 전에 엑셀 필터링 기능 활용해서 어느정도 가공 (ex 등록년도 1000~1800, 2017~5000 행 제거 등등...)\n",
    "cars = pd.read_csv('autos_refined.csv', encoding='ISO-8859-1')"
   ]
  },
  {
   "cell_type": "code",
   "execution_count": 4,
   "metadata": {
    "collapsed": false,
    "scrolled": true
   },
   "outputs": [
    {
     "data": {
      "text/html": [
       "<div>\n",
       "<table border=\"1\" class=\"dataframe\">\n",
       "  <thead>\n",
       "    <tr style=\"text-align: right;\">\n",
       "      <th></th>\n",
       "      <th>dateCrawled</th>\n",
       "      <th>name</th>\n",
       "      <th>seller</th>\n",
       "      <th>offerType</th>\n",
       "      <th>price</th>\n",
       "      <th>abtest</th>\n",
       "      <th>vehicleType</th>\n",
       "      <th>yearOfRegistration</th>\n",
       "      <th>gearbox</th>\n",
       "      <th>powerPS</th>\n",
       "      <th>model</th>\n",
       "      <th>kilometer</th>\n",
       "      <th>monthOfRegistration</th>\n",
       "      <th>fuelType</th>\n",
       "      <th>brand</th>\n",
       "      <th>notRepairedDamage</th>\n",
       "      <th>dateCreated</th>\n",
       "      <th>nrOfPictures</th>\n",
       "      <th>postalCode</th>\n",
       "      <th>lastSeen</th>\n",
       "    </tr>\n",
       "  </thead>\n",
       "  <tbody>\n",
       "    <tr>\n",
       "      <th>0</th>\n",
       "      <td>2016-03-29 15:50</td>\n",
       "      <td>Minni_Modellauto</td>\n",
       "      <td>privat</td>\n",
       "      <td>Angebot</td>\n",
       "      <td>20.0</td>\n",
       "      <td>control</td>\n",
       "      <td>kleinwagen</td>\n",
       "      <td>1988.0</td>\n",
       "      <td>automatik</td>\n",
       "      <td>0.0</td>\n",
       "      <td>m_reihe</td>\n",
       "      <td>5000.0</td>\n",
       "      <td>1.0</td>\n",
       "      <td>andere</td>\n",
       "      <td>bmw</td>\n",
       "      <td>nein</td>\n",
       "      <td>2016-03-29 0:00</td>\n",
       "      <td>0.0</td>\n",
       "      <td>33813.0</td>\n",
       "      <td>2016-03-29 15:50</td>\n",
       "    </tr>\n",
       "    <tr>\n",
       "      <th>1</th>\n",
       "      <td>2016-03-14 21:38</td>\n",
       "      <td>Angebot!!!!!30</td>\n",
       "      <td>privat</td>\n",
       "      <td>Angebot</td>\n",
       "      <td>30.0</td>\n",
       "      <td>test</td>\n",
       "      <td>andere</td>\n",
       "      <td>2016.0</td>\n",
       "      <td>NaN</td>\n",
       "      <td>0.0</td>\n",
       "      <td>NaN</td>\n",
       "      <td>5000.0</td>\n",
       "      <td>1.0</td>\n",
       "      <td>andere</td>\n",
       "      <td>sonstige_autos</td>\n",
       "      <td>NaN</td>\n",
       "      <td>2016-03-14 0:00</td>\n",
       "      <td>0.0</td>\n",
       "      <td>73207.0</td>\n",
       "      <td>2016-04-06 11:46</td>\n",
       "    </tr>\n",
       "    <tr>\n",
       "      <th>2</th>\n",
       "      <td>2016-03-21 6:57</td>\n",
       "      <td>Auto_abschlepp_?erfuehrung__von_Kleinwagen</td>\n",
       "      <td>privat</td>\n",
       "      <td>Angebot</td>\n",
       "      <td>65.0</td>\n",
       "      <td>control</td>\n",
       "      <td>kleinwagen</td>\n",
       "      <td>1990.0</td>\n",
       "      <td>NaN</td>\n",
       "      <td>0.0</td>\n",
       "      <td>golf</td>\n",
       "      <td>150000.0</td>\n",
       "      <td>1.0</td>\n",
       "      <td>andere</td>\n",
       "      <td>volkswagen</td>\n",
       "      <td>NaN</td>\n",
       "      <td>2016-03-21 0:00</td>\n",
       "      <td>0.0</td>\n",
       "      <td>33647.0</td>\n",
       "      <td>2016-03-22 12:46</td>\n",
       "    </tr>\n",
       "    <tr>\n",
       "      <th>3</th>\n",
       "      <td>2016-03-06 19:42</td>\n",
       "      <td>2_Porsche_Embleme</td>\n",
       "      <td>privat</td>\n",
       "      <td>Angebot</td>\n",
       "      <td>180.0</td>\n",
       "      <td>control</td>\n",
       "      <td>andere</td>\n",
       "      <td>1970.0</td>\n",
       "      <td>manuell</td>\n",
       "      <td>0.0</td>\n",
       "      <td>andere</td>\n",
       "      <td>5000.0</td>\n",
       "      <td>1.0</td>\n",
       "      <td>andere</td>\n",
       "      <td>porsche</td>\n",
       "      <td>NaN</td>\n",
       "      <td>2016-03-06 0:00</td>\n",
       "      <td>0.0</td>\n",
       "      <td>38642.0</td>\n",
       "      <td>2016-04-06 22:18</td>\n",
       "    </tr>\n",
       "    <tr>\n",
       "      <th>4</th>\n",
       "      <td>2016-03-13 20:25</td>\n",
       "      <td>Go__Kart_ohne_Motor</td>\n",
       "      <td>privat</td>\n",
       "      <td>Angebot</td>\n",
       "      <td>275.0</td>\n",
       "      <td>test</td>\n",
       "      <td>andere</td>\n",
       "      <td>2010.0</td>\n",
       "      <td>automatik</td>\n",
       "      <td>1.0</td>\n",
       "      <td>NaN</td>\n",
       "      <td>5000.0</td>\n",
       "      <td>1.0</td>\n",
       "      <td>andere</td>\n",
       "      <td>sonstige_autos</td>\n",
       "      <td>NaN</td>\n",
       "      <td>2016-03-13 0:00</td>\n",
       "      <td>0.0</td>\n",
       "      <td>57648.0</td>\n",
       "      <td>2016-03-20 9:15</td>\n",
       "    </tr>\n",
       "  </tbody>\n",
       "</table>\n",
       "</div>"
      ],
      "text/plain": [
       "        dateCrawled                                        name  seller  \\\n",
       "0  2016-03-29 15:50                            Minni_Modellauto  privat   \n",
       "1  2016-03-14 21:38                             Angebot!!!!!30  privat   \n",
       "2   2016-03-21 6:57  Auto_abschlepp_?erfuehrung__von_Kleinwagen  privat   \n",
       "3  2016-03-06 19:42                           2_Porsche_Embleme  privat   \n",
       "4  2016-03-13 20:25                         Go__Kart_ohne_Motor  privat   \n",
       "\n",
       "  offerType  price   abtest vehicleType  yearOfRegistration    gearbox  \\\n",
       "0   Angebot   20.0  control  kleinwagen              1988.0  automatik   \n",
       "1   Angebot   30.0     test      andere              2016.0        NaN   \n",
       "2   Angebot   65.0  control  kleinwagen              1990.0        NaN   \n",
       "3   Angebot  180.0  control      andere              1970.0    manuell   \n",
       "4   Angebot  275.0     test      andere              2010.0  automatik   \n",
       "\n",
       "   powerPS    model  kilometer  monthOfRegistration fuelType           brand  \\\n",
       "0      0.0  m_reihe     5000.0                  1.0   andere             bmw   \n",
       "1      0.0      NaN     5000.0                  1.0   andere  sonstige_autos   \n",
       "2      0.0     golf   150000.0                  1.0   andere      volkswagen   \n",
       "3      0.0   andere     5000.0                  1.0   andere         porsche   \n",
       "4      1.0      NaN     5000.0                  1.0   andere  sonstige_autos   \n",
       "\n",
       "  notRepairedDamage      dateCreated  nrOfPictures  postalCode  \\\n",
       "0              nein  2016-03-29 0:00           0.0     33813.0   \n",
       "1               NaN  2016-03-14 0:00           0.0     73207.0   \n",
       "2               NaN  2016-03-21 0:00           0.0     33647.0   \n",
       "3               NaN  2016-03-06 0:00           0.0     38642.0   \n",
       "4               NaN  2016-03-13 0:00           0.0     57648.0   \n",
       "\n",
       "           lastSeen  \n",
       "0  2016-03-29 15:50  \n",
       "1  2016-04-06 11:46  \n",
       "2  2016-03-22 12:46  \n",
       "3  2016-04-06 22:18  \n",
       "4   2016-03-20 9:15  "
      ]
     },
     "execution_count": 4,
     "metadata": {},
     "output_type": "execute_result"
    }
   ],
   "source": [
    "cars.head()"
   ]
  },
  {
   "cell_type": "markdown",
   "metadata": {},
   "source": [
    "## 전처리"
   ]
  },
  {
   "cell_type": "code",
   "execution_count": 5,
   "metadata": {
    "collapsed": false,
    "scrolled": true
   },
   "outputs": [
    {
     "name": "stderr",
     "output_type": "stream",
     "text": [
      "C:\\Users\\Administrator\\Anaconda3\\lib\\site-packages\\numpy\\lib\\function_base.py:3834: RuntimeWarning: Invalid value encountered in percentile\n",
      "  RuntimeWarning)\n"
     ]
    },
    {
     "data": {
      "text/html": [
       "<div>\n",
       "<table border=\"1\" class=\"dataframe\">\n",
       "  <thead>\n",
       "    <tr style=\"text-align: right;\">\n",
       "      <th></th>\n",
       "      <th>price</th>\n",
       "      <th>yearOfRegistration</th>\n",
       "      <th>powerPS</th>\n",
       "      <th>kilometer</th>\n",
       "      <th>monthOfRegistration</th>\n",
       "      <th>nrOfPictures</th>\n",
       "      <th>postalCode</th>\n",
       "    </tr>\n",
       "  </thead>\n",
       "  <tbody>\n",
       "    <tr>\n",
       "      <th>count</th>\n",
       "      <td>2.906440e+05</td>\n",
       "      <td>290644.000000</td>\n",
       "      <td>290644.000000</td>\n",
       "      <td>290644.000000</td>\n",
       "      <td>290644.000000</td>\n",
       "      <td>290644.0</td>\n",
       "      <td>290644.000000</td>\n",
       "    </tr>\n",
       "    <tr>\n",
       "      <th>mean</th>\n",
       "      <td>1.652684e+04</td>\n",
       "      <td>2003.132936</td>\n",
       "      <td>123.429364</td>\n",
       "      <td>124852.637591</td>\n",
       "      <td>6.389972</td>\n",
       "      <td>0.0</td>\n",
       "      <td>51547.262373</td>\n",
       "    </tr>\n",
       "    <tr>\n",
       "      <th>std</th>\n",
       "      <td>4.010423e+06</td>\n",
       "      <td>6.603895</td>\n",
       "      <td>166.073718</td>\n",
       "      <td>39467.241373</td>\n",
       "      <td>3.349661</td>\n",
       "      <td>0.0</td>\n",
       "      <td>25733.503019</td>\n",
       "    </tr>\n",
       "    <tr>\n",
       "      <th>min</th>\n",
       "      <td>1.000000e+01</td>\n",
       "      <td>1911.000000</td>\n",
       "      <td>0.000000</td>\n",
       "      <td>5000.000000</td>\n",
       "      <td>1.000000</td>\n",
       "      <td>0.0</td>\n",
       "      <td>1067.000000</td>\n",
       "    </tr>\n",
       "    <tr>\n",
       "      <th>25%</th>\n",
       "      <td>NaN</td>\n",
       "      <td>NaN</td>\n",
       "      <td>NaN</td>\n",
       "      <td>NaN</td>\n",
       "      <td>NaN</td>\n",
       "      <td>NaN</td>\n",
       "      <td>NaN</td>\n",
       "    </tr>\n",
       "    <tr>\n",
       "      <th>50%</th>\n",
       "      <td>NaN</td>\n",
       "      <td>NaN</td>\n",
       "      <td>NaN</td>\n",
       "      <td>NaN</td>\n",
       "      <td>NaN</td>\n",
       "      <td>NaN</td>\n",
       "      <td>NaN</td>\n",
       "    </tr>\n",
       "    <tr>\n",
       "      <th>75%</th>\n",
       "      <td>NaN</td>\n",
       "      <td>NaN</td>\n",
       "      <td>NaN</td>\n",
       "      <td>NaN</td>\n",
       "      <td>NaN</td>\n",
       "      <td>NaN</td>\n",
       "      <td>NaN</td>\n",
       "    </tr>\n",
       "    <tr>\n",
       "      <th>max</th>\n",
       "      <td>2.147484e+09</td>\n",
       "      <td>2016.000000</td>\n",
       "      <td>20000.000000</td>\n",
       "      <td>150000.000000</td>\n",
       "      <td>12.000000</td>\n",
       "      <td>0.0</td>\n",
       "      <td>99998.000000</td>\n",
       "    </tr>\n",
       "  </tbody>\n",
       "</table>\n",
       "</div>"
      ],
      "text/plain": [
       "              price  yearOfRegistration        powerPS      kilometer  \\\n",
       "count  2.906440e+05       290644.000000  290644.000000  290644.000000   \n",
       "mean   1.652684e+04         2003.132936     123.429364  124852.637591   \n",
       "std    4.010423e+06            6.603895     166.073718   39467.241373   \n",
       "min    1.000000e+01         1911.000000       0.000000    5000.000000   \n",
       "25%             NaN                 NaN            NaN            NaN   \n",
       "50%             NaN                 NaN            NaN            NaN   \n",
       "75%             NaN                 NaN            NaN            NaN   \n",
       "max    2.147484e+09         2016.000000   20000.000000  150000.000000   \n",
       "\n",
       "       monthOfRegistration  nrOfPictures     postalCode  \n",
       "count        290644.000000      290644.0  290644.000000  \n",
       "mean              6.389972           0.0   51547.262373  \n",
       "std               3.349661           0.0   25733.503019  \n",
       "min               1.000000           0.0    1067.000000  \n",
       "25%                    NaN           NaN            NaN  \n",
       "50%                    NaN           NaN            NaN  \n",
       "75%                    NaN           NaN            NaN  \n",
       "max              12.000000           0.0   99998.000000  "
      ]
     },
     "execution_count": 5,
     "metadata": {},
     "output_type": "execute_result"
    }
   ],
   "source": [
    "cars.describe()"
   ]
  },
  {
   "cell_type": "code",
   "execution_count": 7,
   "metadata": {
    "collapsed": false,
    "scrolled": true
   },
   "outputs": [
    {
     "data": {
      "text/plain": [
       "Index(['dateCrawled', 'name', 'seller', 'offerType', 'price', 'abtest',\n",
       "       'vehicleType', 'yearOfRegistration', 'gearbox', 'powerPS', 'model',\n",
       "       'kilometer', 'monthOfRegistration', 'fuelType', 'brand',\n",
       "       'notRepairedDamage', 'dateCreated', 'nrOfPictures', 'postalCode',\n",
       "       'lastSeen'],\n",
       "      dtype='object')"
      ]
     },
     "execution_count": 7,
     "metadata": {},
     "output_type": "execute_result"
    }
   ],
   "source": [
    "# 변수명 불러오기\n",
    "cars.columns"
   ]
  },
  {
   "cell_type": "code",
   "execution_count": 8,
   "metadata": {
    "collapsed": false,
    "scrolled": true
   },
   "outputs": [
    {
     "data": {
      "text/plain": [
       "dateCrawled             object\n",
       "name                    object\n",
       "seller                  object\n",
       "offerType               object\n",
       "price                  float64\n",
       "abtest                  object\n",
       "vehicleType             object\n",
       "yearOfRegistration     float64\n",
       "gearbox                 object\n",
       "powerPS                float64\n",
       "model                   object\n",
       "kilometer              float64\n",
       "monthOfRegistration    float64\n",
       "fuelType                object\n",
       "brand                   object\n",
       "notRepairedDamage       object\n",
       "dateCreated             object\n",
       "nrOfPictures           float64\n",
       "postalCode             float64\n",
       "lastSeen                object\n",
       "dtype: object"
      ]
     },
     "execution_count": 8,
     "metadata": {},
     "output_type": "execute_result"
    }
   ],
   "source": [
    "#각 변수 타입보기\n",
    "cars.dtypes"
   ]
  },
  {
   "cell_type": "code",
   "execution_count": 9,
   "metadata": {
    "collapsed": false,
    "scrolled": true
   },
   "outputs": [
    {
     "data": {
      "text/plain": [
       "dateCrawled                1\n",
       "name                       1\n",
       "seller                     1\n",
       "offerType                  1\n",
       "price                      1\n",
       "abtest                     1\n",
       "vehicleType                1\n",
       "yearOfRegistration         1\n",
       "gearbox                 6035\n",
       "powerPS                    1\n",
       "model                   8435\n",
       "kilometer                  1\n",
       "monthOfRegistration        1\n",
       "fuelType                   1\n",
       "brand                      1\n",
       "notRepairedDamage      34521\n",
       "dateCreated                1\n",
       "nrOfPictures               1\n",
       "postalCode                 1\n",
       "lastSeen                   1\n",
       "dtype: int64"
      ]
     },
     "execution_count": 9,
     "metadata": {},
     "output_type": "execute_result"
    }
   ],
   "source": [
    "#결측값 찾기\n",
    "#각 변수 별 결측값 수\n",
    "cars.isnull().sum()"
   ]
  },
  {
   "cell_type": "code",
   "execution_count": 10,
   "metadata": {
    "collapsed": false,
    "scrolled": true
   },
   "outputs": [
    {
     "data": {
      "text/plain": [
       "dateCrawled             0.000344\n",
       "name                    0.000344\n",
       "seller                  0.000344\n",
       "offerType               0.000344\n",
       "price                   0.000344\n",
       "abtest                  0.000344\n",
       "vehicleType             0.000344\n",
       "yearOfRegistration      0.000344\n",
       "gearbox                 2.076416\n",
       "powerPS                 0.000344\n",
       "model                   2.902166\n",
       "kilometer               0.000344\n",
       "monthOfRegistration     0.000344\n",
       "fuelType                0.000344\n",
       "brand                   0.000344\n",
       "notRepairedDamage      11.877376\n",
       "dateCreated             0.000344\n",
       "nrOfPictures            0.000344\n",
       "postalCode              0.000344\n",
       "lastSeen                0.000344\n",
       "dtype: float64"
      ]
     },
     "execution_count": 10,
     "metadata": {},
     "output_type": "execute_result"
    }
   ],
   "source": [
    "#각 변수별 결측값 비율\n",
    "cars.isnull().sum()/cars.shape[0] * 100"
   ]
  },
  {
   "cell_type": "code",
   "execution_count": 11,
   "metadata": {
    "collapsed": true
   },
   "outputs": [],
   "source": [
    "#결측값 변수 제거\n",
    "cars_updated = cars.dropna()"
   ]
  },
  {
   "cell_type": "code",
   "execution_count": 12,
   "metadata": {
    "collapsed": false,
    "scrolled": true
   },
   "outputs": [
    {
     "data": {
      "text/plain": [
       "((290645, 20), (245984, 20))"
      ]
     },
     "execution_count": 12,
     "metadata": {},
     "output_type": "execute_result"
    }
   ],
   "source": [
    "cars.shape, cars_updated.shape"
   ]
  },
  {
   "cell_type": "code",
   "execution_count": 14,
   "metadata": {
    "collapsed": false,
    "scrolled": true
   },
   "outputs": [
    {
     "data": {
      "text/plain": [
       "dateCrawled            0\n",
       "name                   0\n",
       "seller                 0\n",
       "offerType              0\n",
       "price                  0\n",
       "abtest                 0\n",
       "vehicleType            0\n",
       "yearOfRegistration     0\n",
       "gearbox                0\n",
       "powerPS                0\n",
       "model                  0\n",
       "kilometer              0\n",
       "monthOfRegistration    0\n",
       "fuelType               0\n",
       "brand                  0\n",
       "notRepairedDamage      0\n",
       "dateCreated            0\n",
       "nrOfPictures           0\n",
       "postalCode             0\n",
       "lastSeen               0\n",
       "dtype: int64"
      ]
     },
     "execution_count": 14,
     "metadata": {},
     "output_type": "execute_result"
    }
   ],
   "source": [
    "#결측값 체크\n",
    "cars_updated.isnull().sum()"
   ]
  },
  {
   "cell_type": "code",
   "execution_count": 15,
   "metadata": {
    "collapsed": false,
    "scrolled": true
   },
   "outputs": [
    {
     "data": {
      "text/html": [
       "<div>\n",
       "<table border=\"1\" class=\"dataframe\">\n",
       "  <thead>\n",
       "    <tr style=\"text-align: right;\">\n",
       "      <th></th>\n",
       "      <th>dateCrawled</th>\n",
       "      <th>name</th>\n",
       "      <th>seller</th>\n",
       "      <th>offerType</th>\n",
       "      <th>price</th>\n",
       "      <th>abtest</th>\n",
       "      <th>vehicleType</th>\n",
       "      <th>yearOfRegistration</th>\n",
       "      <th>gearbox</th>\n",
       "      <th>powerPS</th>\n",
       "      <th>model</th>\n",
       "      <th>kilometer</th>\n",
       "      <th>monthOfRegistration</th>\n",
       "      <th>fuelType</th>\n",
       "      <th>brand</th>\n",
       "      <th>notRepairedDamage</th>\n",
       "      <th>dateCreated</th>\n",
       "      <th>nrOfPictures</th>\n",
       "      <th>postalCode</th>\n",
       "      <th>lastSeen</th>\n",
       "    </tr>\n",
       "  </thead>\n",
       "  <tbody>\n",
       "    <tr>\n",
       "      <th>0</th>\n",
       "      <td>2016-03-29 15:50</td>\n",
       "      <td>Minni_Modellauto</td>\n",
       "      <td>privat</td>\n",
       "      <td>Angebot</td>\n",
       "      <td>20.0</td>\n",
       "      <td>control</td>\n",
       "      <td>kleinwagen</td>\n",
       "      <td>1988.0</td>\n",
       "      <td>automatik</td>\n",
       "      <td>0.0</td>\n",
       "      <td>m_reihe</td>\n",
       "      <td>5000.0</td>\n",
       "      <td>1.0</td>\n",
       "      <td>andere</td>\n",
       "      <td>bmw</td>\n",
       "      <td>nein</td>\n",
       "      <td>2016-03-29 0:00</td>\n",
       "      <td>0.0</td>\n",
       "      <td>33813.0</td>\n",
       "      <td>2016-03-29 15:50</td>\n",
       "    </tr>\n",
       "    <tr>\n",
       "      <th>5</th>\n",
       "      <td>2016-03-25 17:48</td>\n",
       "      <td>Suche_Kleinwagen</td>\n",
       "      <td>privat</td>\n",
       "      <td>Angebot</td>\n",
       "      <td>400.0</td>\n",
       "      <td>test</td>\n",
       "      <td>kleinwagen</td>\n",
       "      <td>2000.0</td>\n",
       "      <td>automatik</td>\n",
       "      <td>0.0</td>\n",
       "      <td>fiesta</td>\n",
       "      <td>90000.0</td>\n",
       "      <td>1.0</td>\n",
       "      <td>andere</td>\n",
       "      <td>ford</td>\n",
       "      <td>nein</td>\n",
       "      <td>2016-03-25 0:00</td>\n",
       "      <td>0.0</td>\n",
       "      <td>46117.0</td>\n",
       "      <td>2016-04-01 2:15</td>\n",
       "    </tr>\n",
       "    <tr>\n",
       "      <th>9</th>\n",
       "      <td>2016-03-23 18:36</td>\n",
       "      <td>Mercedes_Benz_230</td>\n",
       "      <td>privat</td>\n",
       "      <td>Angebot</td>\n",
       "      <td>1000.0</td>\n",
       "      <td>test</td>\n",
       "      <td>kombi</td>\n",
       "      <td>1998.0</td>\n",
       "      <td>automatik</td>\n",
       "      <td>150.0</td>\n",
       "      <td>andere</td>\n",
       "      <td>150000.0</td>\n",
       "      <td>1.0</td>\n",
       "      <td>andere</td>\n",
       "      <td>mercedes_benz</td>\n",
       "      <td>nein</td>\n",
       "      <td>2016-03-23 0:00</td>\n",
       "      <td>0.0</td>\n",
       "      <td>12055.0</td>\n",
       "      <td>2016-04-06 0:17</td>\n",
       "    </tr>\n",
       "    <tr>\n",
       "      <th>13</th>\n",
       "      <td>2016-03-23 18:36</td>\n",
       "      <td>Mercedes_W_210</td>\n",
       "      <td>privat</td>\n",
       "      <td>Angebot</td>\n",
       "      <td>1400.0</td>\n",
       "      <td>test</td>\n",
       "      <td>kombi</td>\n",
       "      <td>1998.0</td>\n",
       "      <td>automatik</td>\n",
       "      <td>150.0</td>\n",
       "      <td>e_klasse</td>\n",
       "      <td>150000.0</td>\n",
       "      <td>1.0</td>\n",
       "      <td>andere</td>\n",
       "      <td>mercedes_benz</td>\n",
       "      <td>ja</td>\n",
       "      <td>2016-03-23 0:00</td>\n",
       "      <td>0.0</td>\n",
       "      <td>12055.0</td>\n",
       "      <td>2016-04-03 23:17</td>\n",
       "    </tr>\n",
       "    <tr>\n",
       "      <th>15</th>\n",
       "      <td>2016-03-12 15:43</td>\n",
       "      <td>RENAULT_CLIO_1_4_16V_TOP</td>\n",
       "      <td>privat</td>\n",
       "      <td>Angebot</td>\n",
       "      <td>2500.0</td>\n",
       "      <td>control</td>\n",
       "      <td>andere</td>\n",
       "      <td>2004.0</td>\n",
       "      <td>automatik</td>\n",
       "      <td>2018.0</td>\n",
       "      <td>clio</td>\n",
       "      <td>80000.0</td>\n",
       "      <td>1.0</td>\n",
       "      <td>andere</td>\n",
       "      <td>renault</td>\n",
       "      <td>nein</td>\n",
       "      <td>2016-03-12 0:00</td>\n",
       "      <td>0.0</td>\n",
       "      <td>26123.0</td>\n",
       "      <td>2016-03-27 8:17</td>\n",
       "    </tr>\n",
       "  </tbody>\n",
       "</table>\n",
       "</div>"
      ],
      "text/plain": [
       "         dateCrawled                      name  seller offerType   price  \\\n",
       "0   2016-03-29 15:50          Minni_Modellauto  privat   Angebot    20.0   \n",
       "5   2016-03-25 17:48          Suche_Kleinwagen  privat   Angebot   400.0   \n",
       "9   2016-03-23 18:36         Mercedes_Benz_230  privat   Angebot  1000.0   \n",
       "13  2016-03-23 18:36            Mercedes_W_210  privat   Angebot  1400.0   \n",
       "15  2016-03-12 15:43  RENAULT_CLIO_1_4_16V_TOP  privat   Angebot  2500.0   \n",
       "\n",
       "     abtest vehicleType  yearOfRegistration    gearbox  powerPS     model  \\\n",
       "0   control  kleinwagen              1988.0  automatik      0.0   m_reihe   \n",
       "5      test  kleinwagen              2000.0  automatik      0.0    fiesta   \n",
       "9      test       kombi              1998.0  automatik    150.0    andere   \n",
       "13     test       kombi              1998.0  automatik    150.0  e_klasse   \n",
       "15  control      andere              2004.0  automatik   2018.0      clio   \n",
       "\n",
       "    kilometer  monthOfRegistration fuelType          brand notRepairedDamage  \\\n",
       "0      5000.0                  1.0   andere            bmw              nein   \n",
       "5     90000.0                  1.0   andere           ford              nein   \n",
       "9    150000.0                  1.0   andere  mercedes_benz              nein   \n",
       "13   150000.0                  1.0   andere  mercedes_benz                ja   \n",
       "15    80000.0                  1.0   andere        renault              nein   \n",
       "\n",
       "        dateCreated  nrOfPictures  postalCode          lastSeen  \n",
       "0   2016-03-29 0:00           0.0     33813.0  2016-03-29 15:50  \n",
       "5   2016-03-25 0:00           0.0     46117.0   2016-04-01 2:15  \n",
       "9   2016-03-23 0:00           0.0     12055.0   2016-04-06 0:17  \n",
       "13  2016-03-23 0:00           0.0     12055.0  2016-04-03 23:17  \n",
       "15  2016-03-12 0:00           0.0     26123.0   2016-03-27 8:17  "
      ]
     },
     "execution_count": 15,
     "metadata": {},
     "output_type": "execute_result"
    }
   ],
   "source": [
    "#업데이트된 테이블 조회\n",
    "cars_updated.head()"
   ]
  },
  {
   "cell_type": "code",
   "execution_count": 16,
   "metadata": {
    "collapsed": false,
    "scrolled": true
   },
   "outputs": [
    {
     "data": {
      "text/plain": [
       "Index(['dateCrawled', 'name', 'seller', 'offerType', 'price', 'abtest',\n",
       "       'vehicleType', 'yearOfRegistration', 'gearbox', 'powerPS', 'model',\n",
       "       'kilometer', 'monthOfRegistration', 'fuelType', 'brand',\n",
       "       'notRepairedDamage', 'dateCreated', 'nrOfPictures', 'postalCode',\n",
       "       'lastSeen'],\n",
       "      dtype='object')"
      ]
     },
     "execution_count": 16,
     "metadata": {},
     "output_type": "execute_result"
    }
   ],
   "source": [
    "cars_updated.columns"
   ]
  },
  {
   "cell_type": "code",
   "execution_count": 17,
   "metadata": {
    "collapsed": true
   },
   "outputs": [],
   "source": [
    "#사용할 변수들 선택\n",
    "cars_updated = cars_updated.iloc[:, [2,3,6,7,8,9,10,11,12,13,14,15,4]]"
   ]
  },
  {
   "cell_type": "code",
   "execution_count": 19,
   "metadata": {
    "collapsed": true
   },
   "outputs": [],
   "source": [
    "#데이터 인코딩\n",
    "cars_encoded = cars_updated.apply(preprocessing.LabelEncoder().fit_transform)"
   ]
  },
  {
   "cell_type": "code",
   "execution_count": 20,
   "metadata": {
    "collapsed": false,
    "scrolled": true
   },
   "outputs": [
    {
     "data": {
      "text/html": [
       "<div>\n",
       "<table border=\"1\" class=\"dataframe\">\n",
       "  <thead>\n",
       "    <tr style=\"text-align: right;\">\n",
       "      <th></th>\n",
       "      <th>seller</th>\n",
       "      <th>offerType</th>\n",
       "      <th>vehicleType</th>\n",
       "      <th>yearOfRegistration</th>\n",
       "      <th>gearbox</th>\n",
       "      <th>powerPS</th>\n",
       "      <th>model</th>\n",
       "      <th>kilometer</th>\n",
       "      <th>monthOfRegistration</th>\n",
       "      <th>fuelType</th>\n",
       "      <th>brand</th>\n",
       "      <th>notRepairedDamage</th>\n",
       "      <th>price</th>\n",
       "    </tr>\n",
       "  </thead>\n",
       "  <tbody>\n",
       "    <tr>\n",
       "      <th>0</th>\n",
       "      <td>1</td>\n",
       "      <td>0</td>\n",
       "      <td>4</td>\n",
       "      <td>56</td>\n",
       "      <td>0</td>\n",
       "      <td>0</td>\n",
       "      <td>134</td>\n",
       "      <td>0</td>\n",
       "      <td>0</td>\n",
       "      <td>0</td>\n",
       "      <td>2</td>\n",
       "      <td>1</td>\n",
       "      <td>5</td>\n",
       "    </tr>\n",
       "    <tr>\n",
       "      <th>5</th>\n",
       "      <td>1</td>\n",
       "      <td>0</td>\n",
       "      <td>4</td>\n",
       "      <td>68</td>\n",
       "      <td>0</td>\n",
       "      <td>0</td>\n",
       "      <td>90</td>\n",
       "      <td>9</td>\n",
       "      <td>0</td>\n",
       "      <td>0</td>\n",
       "      <td>10</td>\n",
       "      <td>1</td>\n",
       "      <td>155</td>\n",
       "    </tr>\n",
       "    <tr>\n",
       "      <th>9</th>\n",
       "      <td>1</td>\n",
       "      <td>0</td>\n",
       "      <td>5</td>\n",
       "      <td>66</td>\n",
       "      <td>0</td>\n",
       "      <td>150</td>\n",
       "      <td>26</td>\n",
       "      <td>12</td>\n",
       "      <td>0</td>\n",
       "      <td>0</td>\n",
       "      <td>20</td>\n",
       "      <td>1</td>\n",
       "      <td>398</td>\n",
       "    </tr>\n",
       "    <tr>\n",
       "      <th>13</th>\n",
       "      <td>1</td>\n",
       "      <td>0</td>\n",
       "      <td>5</td>\n",
       "      <td>66</td>\n",
       "      <td>0</td>\n",
       "      <td>150</td>\n",
       "      <td>83</td>\n",
       "      <td>12</td>\n",
       "      <td>0</td>\n",
       "      <td>0</td>\n",
       "      <td>20</td>\n",
       "      <td>0</td>\n",
       "      <td>525</td>\n",
       "    </tr>\n",
       "    <tr>\n",
       "      <th>15</th>\n",
       "      <td>1</td>\n",
       "      <td>0</td>\n",
       "      <td>0</td>\n",
       "      <td>72</td>\n",
       "      <td>0</td>\n",
       "      <td>557</td>\n",
       "      <td>62</td>\n",
       "      <td>8</td>\n",
       "      <td>0</td>\n",
       "      <td>0</td>\n",
       "      <td>27</td>\n",
       "      <td>1</td>\n",
       "      <td>844</td>\n",
       "    </tr>\n",
       "  </tbody>\n",
       "</table>\n",
       "</div>"
      ],
      "text/plain": [
       "    seller  offerType  vehicleType  yearOfRegistration  gearbox  powerPS  \\\n",
       "0        1          0            4                  56        0        0   \n",
       "5        1          0            4                  68        0        0   \n",
       "9        1          0            5                  66        0      150   \n",
       "13       1          0            5                  66        0      150   \n",
       "15       1          0            0                  72        0      557   \n",
       "\n",
       "    model  kilometer  monthOfRegistration  fuelType  brand  notRepairedDamage  \\\n",
       "0     134          0                    0         0      2                  1   \n",
       "5      90          9                    0         0     10                  1   \n",
       "9      26         12                    0         0     20                  1   \n",
       "13     83         12                    0         0     20                  0   \n",
       "15     62          8                    0         0     27                  1   \n",
       "\n",
       "    price  \n",
       "0       5  \n",
       "5     155  \n",
       "9     398  \n",
       "13    525  \n",
       "15    844  "
      ]
     },
     "execution_count": 20,
     "metadata": {},
     "output_type": "execute_result"
    }
   ],
   "source": [
    "#인코딩된 데이터 확인\n",
    "cars_encoded.head()"
   ]
  },
  {
   "cell_type": "code",
   "execution_count": 21,
   "metadata": {
    "collapsed": false,
    "scrolled": false
   },
   "outputs": [
    {
     "data": {
      "text/plain": [
       "Index(['seller', 'offerType', 'vehicleType', 'yearOfRegistration', 'gearbox',\n",
       "       'powerPS', 'model', 'kilometer', 'monthOfRegistration', 'fuelType',\n",
       "       'brand', 'notRepairedDamage', 'price'],\n",
       "      dtype='object')"
      ]
     },
     "execution_count": 21,
     "metadata": {},
     "output_type": "execute_result"
    }
   ],
   "source": [
    "cars_encoded.columns"
   ]
  },
  {
   "cell_type": "code",
   "execution_count": 26,
   "metadata": {
    "collapsed": true
   },
   "outputs": [],
   "source": [
    "#Exploratory data analysis\n",
    "import matplotlib.pyplot as plt\n",
    "%matplotlib inline\n",
    "plt.style.use('fivethirtyeight')\n",
    "# plt.rcParams['figure.figsize'] = (10, 6)"
   ]
  },
  {
   "cell_type": "code",
   "execution_count": 27,
   "metadata": {
    "collapsed": false
   },
   "outputs": [
    {
     "data": {
      "text/plain": [
       "<matplotlib.text.Text at 0xd143cc0>"
      ]
     },
     "execution_count": 27,
     "metadata": {},
     "output_type": "execute_result"
    },
    {
     "data": {
      "image/png": "[encoded data removed]",
      "text/plain": [
       "<matplotlib.figure.Figure at 0xd119978>"
      ]
     },
     "metadata": {},
     "output_type": "display_data"
    }
   ],
   "source": [
    "#Plot year vs price\n",
    "plt.scatter(cars_encoded.yearOfRegistration, \n",
    "           cars_encoded.price,\n",
    "           s=150, alpha = 0.1)\n",
    "plt.xlabel('year')\n",
    "plt.ylabel('price')"
   ]
  },
  {
   "cell_type": "markdown",
   "metadata": {},
   "source": [
    "### 번외 label encoder 작동 확인"
   ]
  },
  {
   "cell_type": "markdown",
   "metadata": {},
   "source": [
    ">>> le = preprocessing.LabelEncoder()\n",
    ">>> le.fit([\"paris\", \"paris\", \"tokyo\", \"amsterdam\"])\n",
    "LabelEncoder()\n",
    ">>> list(le.classes_)\n",
    "['amsterdam', 'paris', 'tokyo']\n",
    ">>> le.transform([\"tokyo\", \"tokyo\", \"paris\"])\n",
    "array([2, 2, 1])\n",
    ">>> list(le.inverse_transform([2, 2, 1]))\n",
    "['tokyo', 'tokyo', 'paris']"
   ]
  },
  {
   "cell_type": "code",
   "execution_count": 38,
   "metadata": {
    "collapsed": true
   },
   "outputs": [],
   "source": [
    "le_brand = preprocessing.LabelEncoder()"
   ]
  },
  {
   "cell_type": "code",
   "execution_count": 39,
   "metadata": {
    "collapsed": false
   },
   "outputs": [
    {
     "data": {
      "text/plain": [
       "LabelEncoder()"
      ]
     },
     "execution_count": 39,
     "metadata": {},
     "output_type": "execute_result"
    }
   ],
   "source": [
    "le_brand.fit(cars_updated['brand'])"
   ]
  },
  {
   "cell_type": "code",
   "execution_count": 40,
   "metadata": {
    "collapsed": false,
    "scrolled": true
   },
   "outputs": [
    {
     "data": {
      "text/plain": [
       "['alfa_romeo',\n",
       " 'audi',\n",
       " 'bmw',\n",
       " 'chevrolet',\n",
       " 'chrysler',\n",
       " 'citroen',\n",
       " 'dacia',\n",
       " 'daewoo',\n",
       " 'daihatsu',\n",
       " 'fiat',\n",
       " 'ford',\n",
       " 'honda',\n",
       " 'hyundai',\n",
       " 'jaguar',\n",
       " 'jeep',\n",
       " 'kia',\n",
       " 'lada',\n",
       " 'lancia',\n",
       " 'land_rover',\n",
       " 'mazda',\n",
       " 'mercedes_benz',\n",
       " 'mini',\n",
       " 'mitsubishi',\n",
       " 'nissan',\n",
       " 'opel',\n",
       " 'peugeot',\n",
       " 'porsche',\n",
       " 'renault',\n",
       " 'rover',\n",
       " 'saab',\n",
       " 'seat',\n",
       " 'skoda',\n",
       " 'smart',\n",
       " 'subaru',\n",
       " 'suzuki',\n",
       " 'toyota',\n",
       " 'trabant',\n",
       " 'volkswagen',\n",
       " 'volvo']"
      ]
     },
     "execution_count": 40,
     "metadata": {},
     "output_type": "execute_result"
    }
   ],
   "source": [
    "list(le_brand.classes_)"
   ]
  },
  {
   "cell_type": "code",
   "execution_count": 41,
   "metadata": {
    "collapsed": false,
    "scrolled": true
   },
   "outputs": [
    {
     "data": {
      "text/plain": [
       "0          2\n",
       "5         10\n",
       "9         20\n",
       "13        20\n",
       "15        27\n",
       "23        37\n",
       "24        29\n",
       "28        22\n",
       "30         1\n",
       "31        12\n",
       "32        37\n",
       "37        37\n",
       "38        10\n",
       "39        24\n",
       "40        11\n",
       "46         9\n",
       "47        27\n",
       "49        23\n",
       "51        38\n",
       "52        38\n",
       "55        24\n",
       "57        19\n",
       "58        37\n",
       "59        10\n",
       "60        24\n",
       "61         2\n",
       "62         3\n",
       "65        34\n",
       "66        37\n",
       "67        25\n",
       "          ..\n",
       "290607    11\n",
       "290608    33\n",
       "290609    38\n",
       "290610    20\n",
       "290611    37\n",
       "290613    37\n",
       "290614    14\n",
       "290615     1\n",
       "290616    20\n",
       "290617    26\n",
       "290618     2\n",
       "290619    26\n",
       "290620    24\n",
       "290621     1\n",
       "290622    20\n",
       "290623    20\n",
       "290624    20\n",
       "290625     1\n",
       "290626     1\n",
       "290627     1\n",
       "290628    27\n",
       "290629    20\n",
       "290630    12\n",
       "290631    20\n",
       "290632    26\n",
       "290633    20\n",
       "290634    20\n",
       "290637    20\n",
       "290638     2\n",
       "290641    26\n",
       "Name: brand, dtype: int64"
      ]
     },
     "execution_count": 41,
     "metadata": {},
     "output_type": "execute_result"
    }
   ],
   "source": [
    "cars_encoded['brand']"
   ]
  },
  {
   "cell_type": "code",
   "execution_count": 42,
   "metadata": {
    "collapsed": false,
    "scrolled": true
   },
   "outputs": [
    {
     "data": {
      "text/plain": [
       "LabelEncoder()"
      ]
     },
     "execution_count": 42,
     "metadata": {},
     "output_type": "execute_result"
    }
   ],
   "source": [
    "le_notRepairedDamage = preprocessing.LabelEncoder()\n",
    "le_notRepairedDamage.fit(cars_updated['notRepairedDamage'])"
   ]
  },
  {
   "cell_type": "code",
   "execution_count": 43,
   "metadata": {
    "collapsed": false,
    "scrolled": true
   },
   "outputs": [
    {
     "data": {
      "text/plain": [
       "['ja', 'nein']"
      ]
     },
     "execution_count": 43,
     "metadata": {},
     "output_type": "execute_result"
    }
   ],
   "source": [
    "list(le_notRepairedDamage.classes_)"
   ]
  },
  {
   "cell_type": "code",
   "execution_count": 45,
   "metadata": {
    "collapsed": false,
    "scrolled": true
   },
   "outputs": [
    {
     "data": {
      "text/plain": [
       "0         1\n",
       "5         1\n",
       "9         1\n",
       "13        0\n",
       "15        1\n",
       "23        1\n",
       "24        1\n",
       "28        0\n",
       "30        1\n",
       "31        1\n",
       "32        1\n",
       "37        1\n",
       "38        1\n",
       "39        1\n",
       "40        1\n",
       "46        1\n",
       "47        0\n",
       "49        1\n",
       "51        1\n",
       "52        1\n",
       "55        0\n",
       "57        1\n",
       "58        1\n",
       "59        1\n",
       "60        1\n",
       "61        1\n",
       "62        1\n",
       "65        1\n",
       "66        1\n",
       "67        1\n",
       "         ..\n",
       "290607    1\n",
       "290608    1\n",
       "290609    1\n",
       "290610    1\n",
       "290611    1\n",
       "290613    1\n",
       "290614    1\n",
       "290615    1\n",
       "290616    1\n",
       "290617    1\n",
       "290618    1\n",
       "290619    1\n",
       "290620    1\n",
       "290621    1\n",
       "290622    1\n",
       "290623    1\n",
       "290624    1\n",
       "290625    1\n",
       "290626    1\n",
       "290627    1\n",
       "290628    1\n",
       "290629    1\n",
       "290630    1\n",
       "290631    1\n",
       "290632    1\n",
       "290633    1\n",
       "290634    1\n",
       "290637    1\n",
       "290638    1\n",
       "290641    1\n",
       "Name: notRepairedDamage, dtype: int64"
      ]
     },
     "execution_count": 45,
     "metadata": {},
     "output_type": "execute_result"
    }
   ],
   "source": [
    "cars_encoded['notRepairedDamage']"
   ]
  },
  {
   "cell_type": "code",
   "execution_count": 46,
   "metadata": {
    "collapsed": false
   },
   "outputs": [
    {
     "data": {
      "text/plain": [
       "['ja', 'nein']"
      ]
     },
     "execution_count": 46,
     "metadata": {},
     "output_type": "execute_result"
    }
   ],
   "source": [
    "#수리 여부 : yes(ja) / no(nein)\n",
    "#수리됨 :0 / 수리안됨 : 1\n",
    "list(le_notRepairedDamage.inverse_transform([0, 1]))"
   ]
  },
  {
   "cell_type": "markdown",
   "metadata": {
    "collapsed": true
   },
   "source": [
    "## 회귀계수 표생성"
   ]
  },
  {
   "cell_type": "code",
   "execution_count": 28,
   "metadata": {
    "collapsed": true
   },
   "outputs": [],
   "source": [
    "train_y = cars_encoded.loc[:,'price']"
   ]
  },
  {
   "cell_type": "code",
   "execution_count": 29,
   "metadata": {
    "collapsed": true
   },
   "outputs": [],
   "source": [
    "train_x = cars_encoded.loc[:,cars_encoded.columns!='price']"
   ]
  },
  {
   "cell_type": "code",
   "execution_count": 30,
   "metadata": {
    "collapsed": true
   },
   "outputs": [],
   "source": [
    "#상수항 추가 sm.add_costnat( )\n",
    "predictor = sm.add_constant(train_x)"
   ]
  },
  {
   "cell_type": "code",
   "execution_count": 32,
   "metadata": {
    "collapsed": false
   },
   "outputs": [
    {
     "data": {
      "text/plain": [
       "0       5\n",
       "5     155\n",
       "9     398\n",
       "13    525\n",
       "15    844\n",
       "Name: price, dtype: int64"
      ]
     },
     "execution_count": 32,
     "metadata": {},
     "output_type": "execute_result"
    }
   ],
   "source": [
    "train_y.head()"
   ]
  },
  {
   "cell_type": "code",
   "execution_count": 33,
   "metadata": {
    "collapsed": false
   },
   "outputs": [
    {
     "data": {
      "text/html": [
       "<div>\n",
       "<table border=\"1\" class=\"dataframe\">\n",
       "  <thead>\n",
       "    <tr style=\"text-align: right;\">\n",
       "      <th></th>\n",
       "      <th>const</th>\n",
       "      <th>seller</th>\n",
       "      <th>offerType</th>\n",
       "      <th>vehicleType</th>\n",
       "      <th>yearOfRegistration</th>\n",
       "      <th>gearbox</th>\n",
       "      <th>powerPS</th>\n",
       "      <th>model</th>\n",
       "      <th>kilometer</th>\n",
       "      <th>monthOfRegistration</th>\n",
       "      <th>fuelType</th>\n",
       "      <th>brand</th>\n",
       "      <th>notRepairedDamage</th>\n",
       "    </tr>\n",
       "  </thead>\n",
       "  <tbody>\n",
       "    <tr>\n",
       "      <th>0</th>\n",
       "      <td>1</td>\n",
       "      <td>1</td>\n",
       "      <td>0</td>\n",
       "      <td>4</td>\n",
       "      <td>56</td>\n",
       "      <td>0</td>\n",
       "      <td>0</td>\n",
       "      <td>134</td>\n",
       "      <td>0</td>\n",
       "      <td>0</td>\n",
       "      <td>0</td>\n",
       "      <td>2</td>\n",
       "      <td>1</td>\n",
       "    </tr>\n",
       "    <tr>\n",
       "      <th>5</th>\n",
       "      <td>1</td>\n",
       "      <td>1</td>\n",
       "      <td>0</td>\n",
       "      <td>4</td>\n",
       "      <td>68</td>\n",
       "      <td>0</td>\n",
       "      <td>0</td>\n",
       "      <td>90</td>\n",
       "      <td>9</td>\n",
       "      <td>0</td>\n",
       "      <td>0</td>\n",
       "      <td>10</td>\n",
       "      <td>1</td>\n",
       "    </tr>\n",
       "    <tr>\n",
       "      <th>9</th>\n",
       "      <td>1</td>\n",
       "      <td>1</td>\n",
       "      <td>0</td>\n",
       "      <td>5</td>\n",
       "      <td>66</td>\n",
       "      <td>0</td>\n",
       "      <td>150</td>\n",
       "      <td>26</td>\n",
       "      <td>12</td>\n",
       "      <td>0</td>\n",
       "      <td>0</td>\n",
       "      <td>20</td>\n",
       "      <td>1</td>\n",
       "    </tr>\n",
       "    <tr>\n",
       "      <th>13</th>\n",
       "      <td>1</td>\n",
       "      <td>1</td>\n",
       "      <td>0</td>\n",
       "      <td>5</td>\n",
       "      <td>66</td>\n",
       "      <td>0</td>\n",
       "      <td>150</td>\n",
       "      <td>83</td>\n",
       "      <td>12</td>\n",
       "      <td>0</td>\n",
       "      <td>0</td>\n",
       "      <td>20</td>\n",
       "      <td>0</td>\n",
       "    </tr>\n",
       "    <tr>\n",
       "      <th>15</th>\n",
       "      <td>1</td>\n",
       "      <td>1</td>\n",
       "      <td>0</td>\n",
       "      <td>0</td>\n",
       "      <td>72</td>\n",
       "      <td>0</td>\n",
       "      <td>557</td>\n",
       "      <td>62</td>\n",
       "      <td>8</td>\n",
       "      <td>0</td>\n",
       "      <td>0</td>\n",
       "      <td>27</td>\n",
       "      <td>1</td>\n",
       "    </tr>\n",
       "  </tbody>\n",
       "</table>\n",
       "</div>"
      ],
      "text/plain": [
       "    const  seller  offerType  vehicleType  yearOfRegistration  gearbox  \\\n",
       "0       1       1          0            4                  56        0   \n",
       "5       1       1          0            4                  68        0   \n",
       "9       1       1          0            5                  66        0   \n",
       "13      1       1          0            5                  66        0   \n",
       "15      1       1          0            0                  72        0   \n",
       "\n",
       "    powerPS  model  kilometer  monthOfRegistration  fuelType  brand  \\\n",
       "0         0    134          0                    0         0      2   \n",
       "5         0     90          9                    0         0     10   \n",
       "9       150     26         12                    0         0     20   \n",
       "13      150     83         12                    0         0     20   \n",
       "15      557     62          8                    0         0     27   \n",
       "\n",
       "    notRepairedDamage  \n",
       "0                   1  \n",
       "5                   1  \n",
       "9                   1  \n",
       "13                  0  \n",
       "15                  1  "
      ]
     },
     "execution_count": 33,
     "metadata": {},
     "output_type": "execute_result"
    }
   ],
   "source": [
    "predictor.head()"
   ]
  },
  {
   "cell_type": "code",
   "execution_count": 34,
   "metadata": {
    "collapsed": false
   },
   "outputs": [
    {
     "data": {
      "text/plain": [
       "(245984, 245984)"
      ]
     },
     "execution_count": 34,
     "metadata": {},
     "output_type": "execute_result"
    }
   ],
   "source": [
    "len(train_y), len(predictor)"
   ]
  },
  {
   "cell_type": "code",
   "execution_count": 35,
   "metadata": {
    "collapsed": true
   },
   "outputs": [],
   "source": [
    "OLS = sm.OLS(train_y,predictor)"
   ]
  },
  {
   "cell_type": "code",
   "execution_count": 36,
   "metadata": {
    "collapsed": true
   },
   "outputs": [],
   "source": [
    "myfit = OLS.fit()"
   ]
  },
  {
   "cell_type": "code",
   "execution_count": 37,
   "metadata": {
    "collapsed": false
   },
   "outputs": [
    {
     "name": "stdout",
     "output_type": "stream",
     "text": [
      "                            OLS Regression Results                            \n",
      "==============================================================================\n",
      "Dep. Variable:                  price   R-squared:                       0.684\n",
      "Model:                            OLS   Adj. R-squared:                  0.684\n",
      "Method:                 Least Squares   F-statistic:                 4.445e+04\n",
      "Date:                Fri, 26 May 2017   Prob (F-statistic):               0.00\n",
      "Time:                        04:07:04   Log-Likelihood:            -1.9162e+06\n",
      "No. Observations:              245984   AIC:                         3.832e+06\n",
      "Df Residuals:                  245971   BIC:                         3.832e+06\n",
      "Df Model:                          12                                         \n",
      "Covariance Type:            nonrobust                                         \n",
      "=======================================================================================\n",
      "                          coef    std err          t      P>|t|      [95.0% Conf. Int.]\n",
      "---------------------------------------------------------------------------------------\n",
      "const               -1230.0477    413.638     -2.974      0.003     -2040.767  -419.329\n",
      "seller               -791.4055    413.388     -1.914      0.056     -1601.635    18.824\n",
      "offerType            -228.1206    584.597     -0.390      0.696     -1373.916   917.675\n",
      "vehicleType           -26.5381      0.703    -37.726      0.000       -27.917   -25.159\n",
      "yearOfRegistration     49.1492      0.219    223.952      0.000        48.719    49.579\n",
      "gearbox              -188.2813      3.105    -60.634      0.000      -194.367  -182.195\n",
      "powerPS                 7.2555      0.022    326.563      0.000         7.212     7.299\n",
      "model                   0.2104      0.019     10.980      0.000         0.173     0.248\n",
      "kilometer            -125.0639      0.471   -265.712      0.000      -125.986  -124.141\n",
      "monthOfRegistration    -0.3142      0.352     -0.893      0.372        -1.004     0.376\n",
      "fuelType              120.3256      1.173    102.609      0.000       118.027   122.624\n",
      "brand                  -0.2400      0.107     -2.253      0.024        -0.449    -0.031\n",
      "notRepairedDamage     446.3398      4.019    111.058      0.000       438.463   454.217\n",
      "==============================================================================\n",
      "Omnibus:                    63810.537   Durbin-Watson:                   1.039\n",
      "Prob(Omnibus):                  0.000   Jarque-Bera (JB):           628463.211\n",
      "Skew:                           0.968   Prob(JB):                         0.00\n",
      "Kurtosis:                      10.588   Cond. No.                     8.92e+04\n",
      "==============================================================================\n",
      "\n",
      "Warnings:\n",
      "[1] Standard Errors assume that the covariance matrix of the errors is correctly specified.\n",
      "[2] The condition number is large, 8.92e+04. This might indicate that there are\n",
      "strong multicollinearity or other numerical problems.\n"
     ]
    }
   ],
   "source": [
    "print(myfit.summary())"
   ]
  },
  {
   "cell_type": "code",
   "execution_count": null,
   "metadata": {
    "collapsed": true
   },
   "outputs": [],
   "source": []
  }
 ],
 "metadata": {
  "anaconda-cloud": {},
  "kernelspec": {
   "display_name": "Python [default]",
   "language": "python",
   "name": "python3"
  },
  "language_info": {
   "codemirror_mode": {
    "name": "ipython",
    "version": 3
   },
   "file_extension": ".py",
   "mimetype": "text/x-python",
   "name": "python",
   "nbconvert_exporter": "python",
   "pygments_lexer": "ipython3",
   "version": "3.5.2"
  }
 },
 "nbformat": 4,
 "nbformat_minor": 2
}
