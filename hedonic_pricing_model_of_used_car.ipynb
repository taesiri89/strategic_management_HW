{
 "cells": [
  {
   "cell_type": "markdown",
   "metadata": {},
   "source": [
    "## 2017-1학기 전략경영 hedonic pricing model                \n",
    "  \n",
    "### 경영학과 김태한"
   ]
  },
  {
   "cell_type": "markdown",
   "metadata": {},
   "source": [
    "중고차 데이터(출처 : https://www.kaggle.com/orgesleka/used-cars-database )"
   ]
  },
  {
   "cell_type": "markdown",
   "metadata": {},
   "source": [
    "Over 370,000 used cars were scraped from Ebay-Kleinanzeigen. The content of the data is in German. The data is available [here](https://www.kaggle.com/orgesleka/used-cars-database) The fields included in the file data/autos.csv are:\n",
    "\n",
    "- seller : private or dealer\n",
    "- offerType\n",
    "- vehicleType\n",
    "- yearOfRegistration : at which year the car was first registered\n",
    "- gearbox\n",
    "- powerPS : power of the car in PS\n",
    "- model\n",
    "- kilometer : how many kilometers the car has driven\n",
    "- monthOfRegistration : at which month the car was first registered\n",
    "- fuelType\n",
    "- brand\n",
    "- notRepairedDamage : if the car has a damage which is not repaired yet\n",
    "- price : the price on the ad to sell the car. \n",
    "\n",
    "**Goal**  \n",
    "Given the characteristics/features of the car, the sale price of the car is to be predicted. "
   ]
  },
  {
   "cell_type": "code",
   "execution_count": 1,
   "metadata": {
    "collapsed": true
   },
   "outputs": [],
   "source": [
    "#필요 모듈 불러오기\n",
    "import pandas as pd\n",
    "import statsmodels.api as sm\n",
    "import math\n",
    "import numpy as np\n",
    "#Convert text to numeric using Label Encoding\n",
    "from sklearn import preprocessing"
   ]
  },
  {
   "cell_type": "code",
   "execution_count": 2,
   "metadata": {
    "collapsed": false
   },
   "outputs": [],
   "source": [
    "#데이터 읽기\n",
    "#불러오기 전에 엑셀 필터링 기능 활용해서 어느정도 가공 (ex 등록년도 1000~1800, 2017~5000 행 제거 등등...)\n",
    "cars = pd.read_csv('autos_refined.csv', encoding='ISO-8859-1')"
   ]
  },
  {
   "cell_type": "code",
   "execution_count": 3,
   "metadata": {
    "collapsed": false,
    "scrolled": true
   },
   "outputs": [
    {
     "data": {
      "text/html": [
       "<div>\n",
       "<table border=\"1\" class=\"dataframe\">\n",
       "  <thead>\n",
       "    <tr style=\"text-align: right;\">\n",
       "      <th></th>\n",
       "      <th>dateCrawled</th>\n",
       "      <th>name</th>\n",
       "      <th>seller</th>\n",
       "      <th>offerType</th>\n",
       "      <th>price</th>\n",
       "      <th>abtest</th>\n",
       "      <th>vehicleType</th>\n",
       "      <th>yearOfRegistration</th>\n",
       "      <th>gearbox</th>\n",
       "      <th>powerPS</th>\n",
       "      <th>model</th>\n",
       "      <th>kilometer</th>\n",
       "      <th>monthOfRegistration</th>\n",
       "      <th>fuelType</th>\n",
       "      <th>brand</th>\n",
       "      <th>notRepairedDamage</th>\n",
       "      <th>dateCreated</th>\n",
       "      <th>nrOfPictures</th>\n",
       "      <th>postalCode</th>\n",
       "      <th>lastSeen</th>\n",
       "    </tr>\n",
       "  </thead>\n",
       "  <tbody>\n",
       "    <tr>\n",
       "      <th>0</th>\n",
       "      <td>2016-03-11 22:57</td>\n",
       "      <td>Suche_Bmw_E_30_Cabrio_mit_T?_im_Tausch_gg.Chev...</td>\n",
       "      <td>privat</td>\n",
       "      <td>Angebot</td>\n",
       "      <td>6000</td>\n",
       "      <td>control</td>\n",
       "      <td>cabrio</td>\n",
       "      <td>1980</td>\n",
       "      <td>NaN</td>\n",
       "      <td>0</td>\n",
       "      <td>3er</td>\n",
       "      <td>5000</td>\n",
       "      <td>1</td>\n",
       "      <td>andere</td>\n",
       "      <td>bmw</td>\n",
       "      <td>NaN</td>\n",
       "      <td>2016-03-11 0:00</td>\n",
       "      <td>0</td>\n",
       "      <td>59755</td>\n",
       "      <td>2016-03-16 3:17</td>\n",
       "    </tr>\n",
       "    <tr>\n",
       "      <th>1</th>\n",
       "      <td>2016-03-14 0:47</td>\n",
       "      <td>Springt_nicht_mehr_an</td>\n",
       "      <td>privat</td>\n",
       "      <td>Angebot</td>\n",
       "      <td>50</td>\n",
       "      <td>control</td>\n",
       "      <td>kleinwagen</td>\n",
       "      <td>1980</td>\n",
       "      <td>manuell</td>\n",
       "      <td>55</td>\n",
       "      <td>clio</td>\n",
       "      <td>150000</td>\n",
       "      <td>1</td>\n",
       "      <td>benzin</td>\n",
       "      <td>renault</td>\n",
       "      <td>ja</td>\n",
       "      <td>2016-03-13 0:00</td>\n",
       "      <td>0</td>\n",
       "      <td>78234</td>\n",
       "      <td>2016-03-15 21:17</td>\n",
       "    </tr>\n",
       "    <tr>\n",
       "      <th>2</th>\n",
       "      <td>2016-04-03 10:06</td>\n",
       "      <td>Suzuki_LJ_80_Kaosse_Karosserie_Oldtimer_Trial_...</td>\n",
       "      <td>privat</td>\n",
       "      <td>Angebot</td>\n",
       "      <td>300</td>\n",
       "      <td>test</td>\n",
       "      <td>suv</td>\n",
       "      <td>1980</td>\n",
       "      <td>NaN</td>\n",
       "      <td>39</td>\n",
       "      <td>andere</td>\n",
       "      <td>5000</td>\n",
       "      <td>1</td>\n",
       "      <td>benzin</td>\n",
       "      <td>suzuki</td>\n",
       "      <td>NaN</td>\n",
       "      <td>2016-04-03 0:00</td>\n",
       "      <td>0</td>\n",
       "      <td>57080</td>\n",
       "      <td>2016-04-03 11:26</td>\n",
       "    </tr>\n",
       "    <tr>\n",
       "      <th>3</th>\n",
       "      <td>2016-03-15 14:52</td>\n",
       "      <td>Jeep_CJ</td>\n",
       "      <td>privat</td>\n",
       "      <td>Angebot</td>\n",
       "      <td>750</td>\n",
       "      <td>control</td>\n",
       "      <td>suv</td>\n",
       "      <td>1980</td>\n",
       "      <td>manuell</td>\n",
       "      <td>136</td>\n",
       "      <td>andere</td>\n",
       "      <td>150000</td>\n",
       "      <td>1</td>\n",
       "      <td>benzin</td>\n",
       "      <td>jeep</td>\n",
       "      <td>ja</td>\n",
       "      <td>2016-03-15 0:00</td>\n",
       "      <td>0</td>\n",
       "      <td>31675</td>\n",
       "      <td>2016-03-15 14:52</td>\n",
       "    </tr>\n",
       "    <tr>\n",
       "      <th>4</th>\n",
       "      <td>2016-04-05 11:50</td>\n",
       "      <td>Checker_Cab_US_Taxi</td>\n",
       "      <td>privat</td>\n",
       "      <td>Angebot</td>\n",
       "      <td>800</td>\n",
       "      <td>test</td>\n",
       "      <td>limousine</td>\n",
       "      <td>1980</td>\n",
       "      <td>NaN</td>\n",
       "      <td>0</td>\n",
       "      <td>NaN</td>\n",
       "      <td>5000</td>\n",
       "      <td>1</td>\n",
       "      <td>benzin</td>\n",
       "      <td>sonstige_autos</td>\n",
       "      <td>NaN</td>\n",
       "      <td>2016-04-05 0:00</td>\n",
       "      <td>0</td>\n",
       "      <td>71134</td>\n",
       "      <td>2016-04-05 11:50</td>\n",
       "    </tr>\n",
       "  </tbody>\n",
       "</table>\n",
       "</div>"
      ],
      "text/plain": [
       "        dateCrawled                                               name  \\\n",
       "0  2016-03-11 22:57  Suche_Bmw_E_30_Cabrio_mit_T?_im_Tausch_gg.Chev...   \n",
       "1   2016-03-14 0:47                              Springt_nicht_mehr_an   \n",
       "2  2016-04-03 10:06  Suzuki_LJ_80_Kaosse_Karosserie_Oldtimer_Trial_...   \n",
       "3  2016-03-15 14:52                                            Jeep_CJ   \n",
       "4  2016-04-05 11:50                                Checker_Cab_US_Taxi   \n",
       "\n",
       "   seller offerType  price   abtest vehicleType  yearOfRegistration  gearbox  \\\n",
       "0  privat   Angebot   6000  control      cabrio                1980      NaN   \n",
       "1  privat   Angebot     50  control  kleinwagen                1980  manuell   \n",
       "2  privat   Angebot    300     test         suv                1980      NaN   \n",
       "3  privat   Angebot    750  control         suv                1980  manuell   \n",
       "4  privat   Angebot    800     test   limousine                1980      NaN   \n",
       "\n",
       "   powerPS   model  kilometer  monthOfRegistration fuelType           brand  \\\n",
       "0        0     3er       5000                    1   andere             bmw   \n",
       "1       55    clio     150000                    1   benzin         renault   \n",
       "2       39  andere       5000                    1   benzin          suzuki   \n",
       "3      136  andere     150000                    1   benzin            jeep   \n",
       "4        0     NaN       5000                    1   benzin  sonstige_autos   \n",
       "\n",
       "  notRepairedDamage      dateCreated  nrOfPictures  postalCode  \\\n",
       "0               NaN  2016-03-11 0:00             0       59755   \n",
       "1                ja  2016-03-13 0:00             0       78234   \n",
       "2               NaN  2016-04-03 0:00             0       57080   \n",
       "3                ja  2016-03-15 0:00             0       31675   \n",
       "4               NaN  2016-04-05 0:00             0       71134   \n",
       "\n",
       "           lastSeen  \n",
       "0   2016-03-16 3:17  \n",
       "1  2016-03-15 21:17  \n",
       "2  2016-04-03 11:26  \n",
       "3  2016-03-15 14:52  \n",
       "4  2016-04-05 11:50  "
      ]
     },
     "execution_count": 3,
     "metadata": {},
     "output_type": "execute_result"
    }
   ],
   "source": [
    "cars.head()"
   ]
  },
  {
   "cell_type": "markdown",
   "metadata": {},
   "source": [
    "## 전처리"
   ]
  },
  {
   "cell_type": "code",
   "execution_count": 4,
   "metadata": {
    "collapsed": false,
    "scrolled": true
   },
   "outputs": [
    {
     "data": {
      "text/html": [
       "<div>\n",
       "<table border=\"1\" class=\"dataframe\">\n",
       "  <thead>\n",
       "    <tr style=\"text-align: right;\">\n",
       "      <th></th>\n",
       "      <th>price</th>\n",
       "      <th>yearOfRegistration</th>\n",
       "      <th>powerPS</th>\n",
       "      <th>kilometer</th>\n",
       "      <th>monthOfRegistration</th>\n",
       "      <th>nrOfPictures</th>\n",
       "      <th>postalCode</th>\n",
       "    </tr>\n",
       "  </thead>\n",
       "  <tbody>\n",
       "    <tr>\n",
       "      <th>count</th>\n",
       "      <td>2.880440e+05</td>\n",
       "      <td>288044.000000</td>\n",
       "      <td>288044.000000</td>\n",
       "      <td>288044.000000</td>\n",
       "      <td>288044.000000</td>\n",
       "      <td>288044.0</td>\n",
       "      <td>288044.000000</td>\n",
       "    </tr>\n",
       "    <tr>\n",
       "      <th>mean</th>\n",
       "      <td>1.576514e+04</td>\n",
       "      <td>2003.434586</td>\n",
       "      <td>123.571986</td>\n",
       "      <td>125183.270611</td>\n",
       "      <td>6.396943</td>\n",
       "      <td>0.0</td>\n",
       "      <td>51540.037793</td>\n",
       "    </tr>\n",
       "    <tr>\n",
       "      <th>std</th>\n",
       "      <td>4.019761e+06</td>\n",
       "      <td>5.758897</td>\n",
       "      <td>163.820229</td>\n",
       "      <td>39207.298296</td>\n",
       "      <td>3.351938</td>\n",
       "      <td>0.0</td>\n",
       "      <td>25727.227148</td>\n",
       "    </tr>\n",
       "    <tr>\n",
       "      <th>min</th>\n",
       "      <td>1.000000e+01</td>\n",
       "      <td>1980.000000</td>\n",
       "      <td>0.000000</td>\n",
       "      <td>5000.000000</td>\n",
       "      <td>1.000000</td>\n",
       "      <td>0.0</td>\n",
       "      <td>1067.000000</td>\n",
       "    </tr>\n",
       "    <tr>\n",
       "      <th>25%</th>\n",
       "      <td>1.500000e+03</td>\n",
       "      <td>1999.000000</td>\n",
       "      <td>75.000000</td>\n",
       "      <td>100000.000000</td>\n",
       "      <td>4.000000</td>\n",
       "      <td>0.0</td>\n",
       "      <td>31162.000000</td>\n",
       "    </tr>\n",
       "    <tr>\n",
       "      <th>50%</th>\n",
       "      <td>3.600000e+03</td>\n",
       "      <td>2004.000000</td>\n",
       "      <td>114.000000</td>\n",
       "      <td>150000.000000</td>\n",
       "      <td>6.000000</td>\n",
       "      <td>0.0</td>\n",
       "      <td>50766.000000</td>\n",
       "    </tr>\n",
       "    <tr>\n",
       "      <th>75%</th>\n",
       "      <td>8.200000e+03</td>\n",
       "      <td>2008.000000</td>\n",
       "      <td>150.000000</td>\n",
       "      <td>150000.000000</td>\n",
       "      <td>9.000000</td>\n",
       "      <td>0.0</td>\n",
       "      <td>72379.000000</td>\n",
       "    </tr>\n",
       "    <tr>\n",
       "      <th>max</th>\n",
       "      <td>2.147484e+09</td>\n",
       "      <td>2016.000000</td>\n",
       "      <td>20000.000000</td>\n",
       "      <td>150000.000000</td>\n",
       "      <td>12.000000</td>\n",
       "      <td>0.0</td>\n",
       "      <td>99998.000000</td>\n",
       "    </tr>\n",
       "  </tbody>\n",
       "</table>\n",
       "</div>"
      ],
      "text/plain": [
       "              price  yearOfRegistration        powerPS      kilometer  \\\n",
       "count  2.880440e+05       288044.000000  288044.000000  288044.000000   \n",
       "mean   1.576514e+04         2003.434586     123.571986  125183.270611   \n",
       "std    4.019761e+06            5.758897     163.820229   39207.298296   \n",
       "min    1.000000e+01         1980.000000       0.000000    5000.000000   \n",
       "25%    1.500000e+03         1999.000000      75.000000  100000.000000   \n",
       "50%    3.600000e+03         2004.000000     114.000000  150000.000000   \n",
       "75%    8.200000e+03         2008.000000     150.000000  150000.000000   \n",
       "max    2.147484e+09         2016.000000   20000.000000  150000.000000   \n",
       "\n",
       "       monthOfRegistration  nrOfPictures     postalCode  \n",
       "count        288044.000000      288044.0  288044.000000  \n",
       "mean              6.396943           0.0   51540.037793  \n",
       "std               3.351938           0.0   25727.227148  \n",
       "min               1.000000           0.0    1067.000000  \n",
       "25%               4.000000           0.0   31162.000000  \n",
       "50%               6.000000           0.0   50766.000000  \n",
       "75%               9.000000           0.0   72379.000000  \n",
       "max              12.000000           0.0   99998.000000  "
      ]
     },
     "execution_count": 4,
     "metadata": {},
     "output_type": "execute_result"
    }
   ],
   "source": [
    "cars.describe()"
   ]
  },
  {
   "cell_type": "code",
   "execution_count": 5,
   "metadata": {
    "collapsed": false,
    "scrolled": true
   },
   "outputs": [
    {
     "data": {
      "text/plain": [
       "Index(['dateCrawled', 'name', 'seller', 'offerType', 'price', 'abtest',\n",
       "       'vehicleType', 'yearOfRegistration', 'gearbox', 'powerPS', 'model',\n",
       "       'kilometer', 'monthOfRegistration', 'fuelType', 'brand',\n",
       "       'notRepairedDamage', 'dateCreated', 'nrOfPictures', 'postalCode',\n",
       "       'lastSeen'],\n",
       "      dtype='object')"
      ]
     },
     "execution_count": 5,
     "metadata": {},
     "output_type": "execute_result"
    }
   ],
   "source": [
    "# 변수명 불러오기\n",
    "cars.columns"
   ]
  },
  {
   "cell_type": "code",
   "execution_count": 6,
   "metadata": {
    "collapsed": false,
    "scrolled": true
   },
   "outputs": [
    {
     "data": {
      "text/plain": [
       "dateCrawled            object\n",
       "name                   object\n",
       "seller                 object\n",
       "offerType              object\n",
       "price                   int64\n",
       "abtest                 object\n",
       "vehicleType            object\n",
       "yearOfRegistration      int64\n",
       "gearbox                object\n",
       "powerPS                 int64\n",
       "model                  object\n",
       "kilometer               int64\n",
       "monthOfRegistration     int64\n",
       "fuelType               object\n",
       "brand                  object\n",
       "notRepairedDamage      object\n",
       "dateCreated            object\n",
       "nrOfPictures            int64\n",
       "postalCode              int64\n",
       "lastSeen               object\n",
       "dtype: object"
      ]
     },
     "execution_count": 6,
     "metadata": {},
     "output_type": "execute_result"
    }
   ],
   "source": [
    "#각 변수 타입보기\n",
    "cars.dtypes"
   ]
  },
  {
   "cell_type": "code",
   "execution_count": 7,
   "metadata": {
    "collapsed": false,
    "scrolled": true
   },
   "outputs": [
    {
     "data": {
      "text/plain": [
       "dateCrawled                0\n",
       "name                       0\n",
       "seller                     0\n",
       "offerType                  0\n",
       "price                      0\n",
       "abtest                     0\n",
       "vehicleType                0\n",
       "yearOfRegistration         0\n",
       "gearbox                 5935\n",
       "powerPS                    0\n",
       "model                   7819\n",
       "kilometer                  0\n",
       "monthOfRegistration        0\n",
       "fuelType                   0\n",
       "brand                      0\n",
       "notRepairedDamage      34109\n",
       "dateCreated                0\n",
       "nrOfPictures               0\n",
       "postalCode                 0\n",
       "lastSeen                   0\n",
       "dtype: int64"
      ]
     },
     "execution_count": 7,
     "metadata": {},
     "output_type": "execute_result"
    }
   ],
   "source": [
    "#결측값 찾기\n",
    "#각 변수 별 결측값 수\n",
    "cars.isnull().sum()"
   ]
  },
  {
   "cell_type": "code",
   "execution_count": 8,
   "metadata": {
    "collapsed": false,
    "scrolled": true
   },
   "outputs": [
    {
     "data": {
      "text/plain": [
       "dateCrawled             0.000000\n",
       "name                    0.000000\n",
       "seller                  0.000000\n",
       "offerType               0.000000\n",
       "price                   0.000000\n",
       "abtest                  0.000000\n",
       "vehicleType             0.000000\n",
       "yearOfRegistration      0.000000\n",
       "gearbox                 2.060449\n",
       "powerPS                 0.000000\n",
       "model                   2.714516\n",
       "kilometer               0.000000\n",
       "monthOfRegistration     0.000000\n",
       "fuelType                0.000000\n",
       "brand                   0.000000\n",
       "notRepairedDamage      11.841594\n",
       "dateCreated             0.000000\n",
       "nrOfPictures            0.000000\n",
       "postalCode              0.000000\n",
       "lastSeen                0.000000\n",
       "dtype: float64"
      ]
     },
     "execution_count": 8,
     "metadata": {},
     "output_type": "execute_result"
    }
   ],
   "source": [
    "#각 변수별 결측값 비율\n",
    "cars.isnull().sum()/cars.shape[0] * 100"
   ]
  },
  {
   "cell_type": "code",
   "execution_count": 9,
   "metadata": {
    "collapsed": true
   },
   "outputs": [],
   "source": [
    "#결측값 변수 제거\n",
    "cars_updated = cars.dropna()"
   ]
  },
  {
   "cell_type": "code",
   "execution_count": 10,
   "metadata": {
    "collapsed": false,
    "scrolled": true
   },
   "outputs": [
    {
     "data": {
      "text/plain": [
       "((288044, 20), (244336, 20))"
      ]
     },
     "execution_count": 10,
     "metadata": {},
     "output_type": "execute_result"
    }
   ],
   "source": [
    "cars.shape, cars_updated.shape"
   ]
  },
  {
   "cell_type": "code",
   "execution_count": 11,
   "metadata": {
    "collapsed": false,
    "scrolled": true
   },
   "outputs": [
    {
     "data": {
      "text/plain": [
       "dateCrawled            0\n",
       "name                   0\n",
       "seller                 0\n",
       "offerType              0\n",
       "price                  0\n",
       "abtest                 0\n",
       "vehicleType            0\n",
       "yearOfRegistration     0\n",
       "gearbox                0\n",
       "powerPS                0\n",
       "model                  0\n",
       "kilometer              0\n",
       "monthOfRegistration    0\n",
       "fuelType               0\n",
       "brand                  0\n",
       "notRepairedDamage      0\n",
       "dateCreated            0\n",
       "nrOfPictures           0\n",
       "postalCode             0\n",
       "lastSeen               0\n",
       "dtype: int64"
      ]
     },
     "execution_count": 11,
     "metadata": {},
     "output_type": "execute_result"
    }
   ],
   "source": [
    "#결측값 체크\n",
    "cars_updated.isnull().sum()"
   ]
  },
  {
   "cell_type": "code",
   "execution_count": 12,
   "metadata": {
    "collapsed": false,
    "scrolled": true
   },
   "outputs": [
    {
     "data": {
      "text/html": [
       "<div>\n",
       "<table border=\"1\" class=\"dataframe\">\n",
       "  <thead>\n",
       "    <tr style=\"text-align: right;\">\n",
       "      <th></th>\n",
       "      <th>dateCrawled</th>\n",
       "      <th>name</th>\n",
       "      <th>seller</th>\n",
       "      <th>offerType</th>\n",
       "      <th>price</th>\n",
       "      <th>abtest</th>\n",
       "      <th>vehicleType</th>\n",
       "      <th>yearOfRegistration</th>\n",
       "      <th>gearbox</th>\n",
       "      <th>powerPS</th>\n",
       "      <th>model</th>\n",
       "      <th>kilometer</th>\n",
       "      <th>monthOfRegistration</th>\n",
       "      <th>fuelType</th>\n",
       "      <th>brand</th>\n",
       "      <th>notRepairedDamage</th>\n",
       "      <th>dateCreated</th>\n",
       "      <th>nrOfPictures</th>\n",
       "      <th>postalCode</th>\n",
       "      <th>lastSeen</th>\n",
       "    </tr>\n",
       "  </thead>\n",
       "  <tbody>\n",
       "    <tr>\n",
       "      <th>1</th>\n",
       "      <td>2016-03-14 0:47</td>\n",
       "      <td>Springt_nicht_mehr_an</td>\n",
       "      <td>privat</td>\n",
       "      <td>Angebot</td>\n",
       "      <td>50</td>\n",
       "      <td>control</td>\n",
       "      <td>kleinwagen</td>\n",
       "      <td>1980</td>\n",
       "      <td>manuell</td>\n",
       "      <td>55</td>\n",
       "      <td>clio</td>\n",
       "      <td>150000</td>\n",
       "      <td>1</td>\n",
       "      <td>benzin</td>\n",
       "      <td>renault</td>\n",
       "      <td>ja</td>\n",
       "      <td>2016-03-13 0:00</td>\n",
       "      <td>0</td>\n",
       "      <td>78234</td>\n",
       "      <td>2016-03-15 21:17</td>\n",
       "    </tr>\n",
       "    <tr>\n",
       "      <th>3</th>\n",
       "      <td>2016-03-15 14:52</td>\n",
       "      <td>Jeep_CJ</td>\n",
       "      <td>privat</td>\n",
       "      <td>Angebot</td>\n",
       "      <td>750</td>\n",
       "      <td>control</td>\n",
       "      <td>suv</td>\n",
       "      <td>1980</td>\n",
       "      <td>manuell</td>\n",
       "      <td>136</td>\n",
       "      <td>andere</td>\n",
       "      <td>150000</td>\n",
       "      <td>1</td>\n",
       "      <td>benzin</td>\n",
       "      <td>jeep</td>\n",
       "      <td>ja</td>\n",
       "      <td>2016-03-15 0:00</td>\n",
       "      <td>0</td>\n",
       "      <td>31675</td>\n",
       "      <td>2016-03-15 14:52</td>\n",
       "    </tr>\n",
       "    <tr>\n",
       "      <th>5</th>\n",
       "      <td>2016-03-24 20:38</td>\n",
       "      <td>Volkswagen_Kaefer</td>\n",
       "      <td>privat</td>\n",
       "      <td>Angebot</td>\n",
       "      <td>1000</td>\n",
       "      <td>test</td>\n",
       "      <td>kleinwagen</td>\n",
       "      <td>1980</td>\n",
       "      <td>manuell</td>\n",
       "      <td>0</td>\n",
       "      <td>kaefer</td>\n",
       "      <td>5000</td>\n",
       "      <td>1</td>\n",
       "      <td>benzin</td>\n",
       "      <td>volkswagen</td>\n",
       "      <td>nein</td>\n",
       "      <td>2016-03-24 0:00</td>\n",
       "      <td>0</td>\n",
       "      <td>4564</td>\n",
       "      <td>2016-04-05 13:16</td>\n",
       "    </tr>\n",
       "    <tr>\n",
       "      <th>7</th>\n",
       "      <td>2016-03-17 12:56</td>\n",
       "      <td>Opel_Monza_2.5_Coup?170_PS_Automatik</td>\n",
       "      <td>privat</td>\n",
       "      <td>Angebot</td>\n",
       "      <td>1100</td>\n",
       "      <td>test</td>\n",
       "      <td>coupe</td>\n",
       "      <td>1980</td>\n",
       "      <td>automatik</td>\n",
       "      <td>170</td>\n",
       "      <td>andere</td>\n",
       "      <td>150000</td>\n",
       "      <td>1</td>\n",
       "      <td>benzin</td>\n",
       "      <td>opel</td>\n",
       "      <td>nein</td>\n",
       "      <td>2016-03-17 0:00</td>\n",
       "      <td>0</td>\n",
       "      <td>29221</td>\n",
       "      <td>2016-04-06 17:15</td>\n",
       "    </tr>\n",
       "    <tr>\n",
       "      <th>9</th>\n",
       "      <td>2016-03-25 15:55</td>\n",
       "      <td>Renault_R_4_GTL</td>\n",
       "      <td>privat</td>\n",
       "      <td>Angebot</td>\n",
       "      <td>1250</td>\n",
       "      <td>test</td>\n",
       "      <td>kleinwagen</td>\n",
       "      <td>1980</td>\n",
       "      <td>manuell</td>\n",
       "      <td>34</td>\n",
       "      <td>andere</td>\n",
       "      <td>150000</td>\n",
       "      <td>1</td>\n",
       "      <td>benzin</td>\n",
       "      <td>renault</td>\n",
       "      <td>nein</td>\n",
       "      <td>2016-03-25 0:00</td>\n",
       "      <td>0</td>\n",
       "      <td>61449</td>\n",
       "      <td>2016-04-07 10:45</td>\n",
       "    </tr>\n",
       "  </tbody>\n",
       "</table>\n",
       "</div>"
      ],
      "text/plain": [
       "        dateCrawled                                  name  seller offerType  \\\n",
       "1   2016-03-14 0:47                 Springt_nicht_mehr_an  privat   Angebot   \n",
       "3  2016-03-15 14:52                               Jeep_CJ  privat   Angebot   \n",
       "5  2016-03-24 20:38                     Volkswagen_Kaefer  privat   Angebot   \n",
       "7  2016-03-17 12:56  Opel_Monza_2.5_Coup?170_PS_Automatik  privat   Angebot   \n",
       "9  2016-03-25 15:55                       Renault_R_4_GTL  privat   Angebot   \n",
       "\n",
       "   price   abtest vehicleType  yearOfRegistration    gearbox  powerPS   model  \\\n",
       "1     50  control  kleinwagen                1980    manuell       55    clio   \n",
       "3    750  control         suv                1980    manuell      136  andere   \n",
       "5   1000     test  kleinwagen                1980    manuell        0  kaefer   \n",
       "7   1100     test       coupe                1980  automatik      170  andere   \n",
       "9   1250     test  kleinwagen                1980    manuell       34  andere   \n",
       "\n",
       "   kilometer  monthOfRegistration fuelType       brand notRepairedDamage  \\\n",
       "1     150000                    1   benzin     renault                ja   \n",
       "3     150000                    1   benzin        jeep                ja   \n",
       "5       5000                    1   benzin  volkswagen              nein   \n",
       "7     150000                    1   benzin        opel              nein   \n",
       "9     150000                    1   benzin     renault              nein   \n",
       "\n",
       "       dateCreated  nrOfPictures  postalCode          lastSeen  \n",
       "1  2016-03-13 0:00             0       78234  2016-03-15 21:17  \n",
       "3  2016-03-15 0:00             0       31675  2016-03-15 14:52  \n",
       "5  2016-03-24 0:00             0        4564  2016-04-05 13:16  \n",
       "7  2016-03-17 0:00             0       29221  2016-04-06 17:15  \n",
       "9  2016-03-25 0:00             0       61449  2016-04-07 10:45  "
      ]
     },
     "execution_count": 12,
     "metadata": {},
     "output_type": "execute_result"
    }
   ],
   "source": [
    "#업데이트된 테이블 조회\n",
    "cars_updated.head()"
   ]
  },
  {
   "cell_type": "code",
   "execution_count": 13,
   "metadata": {
    "collapsed": false,
    "scrolled": true
   },
   "outputs": [
    {
     "data": {
      "text/plain": [
       "Index(['dateCrawled', 'name', 'seller', 'offerType', 'price', 'abtest',\n",
       "       'vehicleType', 'yearOfRegistration', 'gearbox', 'powerPS', 'model',\n",
       "       'kilometer', 'monthOfRegistration', 'fuelType', 'brand',\n",
       "       'notRepairedDamage', 'dateCreated', 'nrOfPictures', 'postalCode',\n",
       "       'lastSeen'],\n",
       "      dtype='object')"
      ]
     },
     "execution_count": 13,
     "metadata": {},
     "output_type": "execute_result"
    }
   ],
   "source": [
    "cars_updated.columns"
   ]
  },
  {
   "cell_type": "code",
   "execution_count": 14,
   "metadata": {
    "collapsed": true
   },
   "outputs": [],
   "source": [
    "#사용할 변수들 선택\n",
    "cars_updated = cars_updated.iloc[:, [2,3,6,7,8,9,10,11,12,13,14,15,4]]"
   ]
  },
  {
   "cell_type": "code",
   "execution_count": 15,
   "metadata": {
    "collapsed": true
   },
   "outputs": [],
   "source": [
    "#데이터 인코딩\n",
    "cars_encoded = cars_updated.apply(preprocessing.LabelEncoder().fit_transform)"
   ]
  },
  {
   "cell_type": "code",
   "execution_count": 16,
   "metadata": {
    "collapsed": false,
    "scrolled": true
   },
   "outputs": [
    {
     "data": {
      "text/html": [
       "<div>\n",
       "<table border=\"1\" class=\"dataframe\">\n",
       "  <thead>\n",
       "    <tr style=\"text-align: right;\">\n",
       "      <th></th>\n",
       "      <th>seller</th>\n",
       "      <th>offerType</th>\n",
       "      <th>vehicleType</th>\n",
       "      <th>yearOfRegistration</th>\n",
       "      <th>gearbox</th>\n",
       "      <th>powerPS</th>\n",
       "      <th>model</th>\n",
       "      <th>kilometer</th>\n",
       "      <th>monthOfRegistration</th>\n",
       "      <th>fuelType</th>\n",
       "      <th>brand</th>\n",
       "      <th>notRepairedDamage</th>\n",
       "      <th>price</th>\n",
       "    </tr>\n",
       "  </thead>\n",
       "  <tbody>\n",
       "    <tr>\n",
       "      <th>1</th>\n",
       "      <td>1</td>\n",
       "      <td>0</td>\n",
       "      <td>4</td>\n",
       "      <td>0</td>\n",
       "      <td>1</td>\n",
       "      <td>53</td>\n",
       "      <td>62</td>\n",
       "      <td>12</td>\n",
       "      <td>0</td>\n",
       "      <td>1</td>\n",
       "      <td>27</td>\n",
       "      <td>0</td>\n",
       "      <td>14</td>\n",
       "    </tr>\n",
       "    <tr>\n",
       "      <th>3</th>\n",
       "      <td>1</td>\n",
       "      <td>0</td>\n",
       "      <td>7</td>\n",
       "      <td>0</td>\n",
       "      <td>1</td>\n",
       "      <td>134</td>\n",
       "      <td>26</td>\n",
       "      <td>12</td>\n",
       "      <td>0</td>\n",
       "      <td>1</td>\n",
       "      <td>14</td>\n",
       "      <td>0</td>\n",
       "      <td>298</td>\n",
       "    </tr>\n",
       "    <tr>\n",
       "      <th>5</th>\n",
       "      <td>1</td>\n",
       "      <td>0</td>\n",
       "      <td>4</td>\n",
       "      <td>0</td>\n",
       "      <td>1</td>\n",
       "      <td>0</td>\n",
       "      <td>118</td>\n",
       "      <td>0</td>\n",
       "      <td>0</td>\n",
       "      <td>1</td>\n",
       "      <td>37</td>\n",
       "      <td>1</td>\n",
       "      <td>398</td>\n",
       "    </tr>\n",
       "    <tr>\n",
       "      <th>7</th>\n",
       "      <td>1</td>\n",
       "      <td>0</td>\n",
       "      <td>3</td>\n",
       "      <td>0</td>\n",
       "      <td>0</td>\n",
       "      <td>168</td>\n",
       "      <td>26</td>\n",
       "      <td>12</td>\n",
       "      <td>0</td>\n",
       "      <td>1</td>\n",
       "      <td>24</td>\n",
       "      <td>1</td>\n",
       "      <td>423</td>\n",
       "    </tr>\n",
       "    <tr>\n",
       "      <th>9</th>\n",
       "      <td>1</td>\n",
       "      <td>0</td>\n",
       "      <td>4</td>\n",
       "      <td>0</td>\n",
       "      <td>1</td>\n",
       "      <td>32</td>\n",
       "      <td>26</td>\n",
       "      <td>12</td>\n",
       "      <td>0</td>\n",
       "      <td>1</td>\n",
       "      <td>27</td>\n",
       "      <td>1</td>\n",
       "      <td>473</td>\n",
       "    </tr>\n",
       "  </tbody>\n",
       "</table>\n",
       "</div>"
      ],
      "text/plain": [
       "   seller  offerType  vehicleType  yearOfRegistration  gearbox  powerPS  \\\n",
       "1       1          0            4                   0        1       53   \n",
       "3       1          0            7                   0        1      134   \n",
       "5       1          0            4                   0        1        0   \n",
       "7       1          0            3                   0        0      168   \n",
       "9       1          0            4                   0        1       32   \n",
       "\n",
       "   model  kilometer  monthOfRegistration  fuelType  brand  notRepairedDamage  \\\n",
       "1     62         12                    0         1     27                  0   \n",
       "3     26         12                    0         1     14                  0   \n",
       "5    118          0                    0         1     37                  1   \n",
       "7     26         12                    0         1     24                  1   \n",
       "9     26         12                    0         1     27                  1   \n",
       "\n",
       "   price  \n",
       "1     14  \n",
       "3    298  \n",
       "5    398  \n",
       "7    423  \n",
       "9    473  "
      ]
     },
     "execution_count": 16,
     "metadata": {},
     "output_type": "execute_result"
    }
   ],
   "source": [
    "#인코딩된 데이터 확인\n",
    "cars_encoded.head()"
   ]
  },
  {
   "cell_type": "code",
   "execution_count": 17,
   "metadata": {
    "collapsed": false,
    "scrolled": false
   },
   "outputs": [
    {
     "data": {
      "text/plain": [
       "Index(['seller', 'offerType', 'vehicleType', 'yearOfRegistration', 'gearbox',\n",
       "       'powerPS', 'model', 'kilometer', 'monthOfRegistration', 'fuelType',\n",
       "       'brand', 'notRepairedDamage', 'price'],\n",
       "      dtype='object')"
      ]
     },
     "execution_count": 17,
     "metadata": {},
     "output_type": "execute_result"
    }
   ],
   "source": [
    "cars_encoded.columns"
   ]
  },
  {
   "cell_type": "code",
   "execution_count": 18,
   "metadata": {
    "collapsed": true
   },
   "outputs": [],
   "source": [
    "#Exploratory data analysis\n",
    "import matplotlib.pyplot as plt\n",
    "%matplotlib inline\n",
    "plt.style.use('fivethirtyeight')\n",
    "# plt.rcParams['figure.figsize'] = (10, 6)"
   ]
  },
  {
   "cell_type": "code",
   "execution_count": 19,
   "metadata": {
    "collapsed": false
   },
   "outputs": [
    {
     "data": {
      "text/plain": [
       "<matplotlib.text.Text at 0xb788da0>"
      ]
     },
     "execution_count": 19,
     "metadata": {},
     "output_type": "execute_result"
    },
    {
     "data": {
      "image/png": "[encoded data removed]",
      "text/plain": [
       "<matplotlib.figure.Figure at 0xb7679e8>"
      ]
     },
     "metadata": {},
     "output_type": "display_data"
    }
   ],
   "source": [
    "#Plot year vs price\n",
    "plt.scatter(cars_encoded.yearOfRegistration, \n",
    "           cars_encoded.price,\n",
    "           s=150, alpha = 0.1)\n",
    "plt.xlabel('year')\n",
    "plt.ylabel('price')"
   ]
  },
  {
   "cell_type": "markdown",
   "metadata": {},
   "source": [
    "### 번외 label encoder 작동 확인"
   ]
  },
  {
   "cell_type": "markdown",
   "metadata": {},
   "source": [
    ">>> le = preprocessing.LabelEncoder()\n",
    ">>> le.fit([\"paris\", \"paris\", \"tokyo\", \"amsterdam\"])\n",
    "LabelEncoder()\n",
    ">>> list(le.classes_)\n",
    "['amsterdam', 'paris', 'tokyo']\n",
    ">>> le.transform([\"tokyo\", \"tokyo\", \"paris\"])\n",
    "array([2, 2, 1])\n",
    ">>> list(le.inverse_transform([2, 2, 1]))\n",
    "['tokyo', 'tokyo', 'paris']"
   ]
  },
  {
   "cell_type": "code",
   "execution_count": 20,
   "metadata": {
    "collapsed": true
   },
   "outputs": [],
   "source": [
    "le_brand = preprocessing.LabelEncoder()"
   ]
  },
  {
   "cell_type": "code",
   "execution_count": 21,
   "metadata": {
    "collapsed": false
   },
   "outputs": [
    {
     "data": {
      "text/plain": [
       "LabelEncoder()"
      ]
     },
     "execution_count": 21,
     "metadata": {},
     "output_type": "execute_result"
    }
   ],
   "source": [
    "le_brand.fit(cars_updated['brand'])"
   ]
  },
  {
   "cell_type": "code",
   "execution_count": 22,
   "metadata": {
    "collapsed": false,
    "scrolled": true
   },
   "outputs": [
    {
     "data": {
      "text/plain": [
       "['alfa_romeo',\n",
       " 'audi',\n",
       " 'bmw',\n",
       " 'chevrolet',\n",
       " 'chrysler',\n",
       " 'citroen',\n",
       " 'dacia',\n",
       " 'daewoo',\n",
       " 'daihatsu',\n",
       " 'fiat',\n",
       " 'ford',\n",
       " 'honda',\n",
       " 'hyundai',\n",
       " 'jaguar',\n",
       " 'jeep',\n",
       " 'kia',\n",
       " 'lada',\n",
       " 'lancia',\n",
       " 'land_rover',\n",
       " 'mazda',\n",
       " 'mercedes_benz',\n",
       " 'mini',\n",
       " 'mitsubishi',\n",
       " 'nissan',\n",
       " 'opel',\n",
       " 'peugeot',\n",
       " 'porsche',\n",
       " 'renault',\n",
       " 'rover',\n",
       " 'saab',\n",
       " 'seat',\n",
       " 'skoda',\n",
       " 'smart',\n",
       " 'subaru',\n",
       " 'suzuki',\n",
       " 'toyota',\n",
       " 'trabant',\n",
       " 'volkswagen',\n",
       " 'volvo']"
      ]
     },
     "execution_count": 22,
     "metadata": {},
     "output_type": "execute_result"
    }
   ],
   "source": [
    "list(le_brand.classes_)"
   ]
  },
  {
   "cell_type": "code",
   "execution_count": 23,
   "metadata": {
    "collapsed": false,
    "scrolled": true
   },
   "outputs": [
    {
     "data": {
      "text/plain": [
       "1         27\n",
       "3         14\n",
       "5         37\n",
       "7         24\n",
       "9         27\n",
       "10        20\n",
       "13        24\n",
       "17        10\n",
       "19        20\n",
       "20        20\n",
       "21        26\n",
       "22        20\n",
       "23        20\n",
       "24        17\n",
       "25        20\n",
       "26        20\n",
       "28        20\n",
       "29         9\n",
       "30        13\n",
       "31        21\n",
       "32        34\n",
       "33        20\n",
       "34        37\n",
       "35         2\n",
       "36        37\n",
       "39        38\n",
       "40        13\n",
       "42        37\n",
       "43         9\n",
       "44         9\n",
       "          ..\n",
       "288007    20\n",
       "288009     2\n",
       "288010     1\n",
       "288011     2\n",
       "288012    37\n",
       "288013     1\n",
       "288014     1\n",
       "288015    18\n",
       "288016    37\n",
       "288017     1\n",
       "288018    18\n",
       "288019    20\n",
       "288020    18\n",
       "288021    26\n",
       "288022    18\n",
       "288023    18\n",
       "288024    23\n",
       "288026    10\n",
       "288028    31\n",
       "288029    20\n",
       "288030    20\n",
       "288031    37\n",
       "288033     1\n",
       "288034    37\n",
       "288035    32\n",
       "288036     2\n",
       "288040    35\n",
       "288041    35\n",
       "288042    37\n",
       "288043    35\n",
       "Name: brand, dtype: int64"
      ]
     },
     "execution_count": 23,
     "metadata": {},
     "output_type": "execute_result"
    }
   ],
   "source": [
    "cars_encoded['brand']"
   ]
  },
  {
   "cell_type": "code",
   "execution_count": 24,
   "metadata": {
    "collapsed": false,
    "scrolled": true
   },
   "outputs": [
    {
     "data": {
      "text/plain": [
       "LabelEncoder()"
      ]
     },
     "execution_count": 24,
     "metadata": {},
     "output_type": "execute_result"
    }
   ],
   "source": [
    "le_notRepairedDamage = preprocessing.LabelEncoder()\n",
    "le_notRepairedDamage.fit(cars_updated['notRepairedDamage'])"
   ]
  },
  {
   "cell_type": "code",
   "execution_count": 25,
   "metadata": {
    "collapsed": false,
    "scrolled": true
   },
   "outputs": [
    {
     "data": {
      "text/plain": [
       "['ja', 'nein']"
      ]
     },
     "execution_count": 25,
     "metadata": {},
     "output_type": "execute_result"
    }
   ],
   "source": [
    "list(le_notRepairedDamage.classes_)"
   ]
  },
  {
   "cell_type": "code",
   "execution_count": 26,
   "metadata": {
    "collapsed": false,
    "scrolled": true
   },
   "outputs": [
    {
     "data": {
      "text/plain": [
       "1         0\n",
       "3         0\n",
       "5         1\n",
       "7         1\n",
       "9         1\n",
       "10        1\n",
       "13        1\n",
       "17        1\n",
       "19        1\n",
       "20        1\n",
       "21        1\n",
       "22        1\n",
       "23        1\n",
       "24        1\n",
       "25        1\n",
       "26        1\n",
       "28        0\n",
       "29        1\n",
       "30        0\n",
       "31        0\n",
       "32        0\n",
       "33        1\n",
       "34        1\n",
       "35        1\n",
       "36        1\n",
       "39        0\n",
       "40        0\n",
       "42        1\n",
       "43        1\n",
       "44        1\n",
       "         ..\n",
       "288007    1\n",
       "288009    1\n",
       "288010    1\n",
       "288011    1\n",
       "288012    1\n",
       "288013    1\n",
       "288014    1\n",
       "288015    1\n",
       "288016    1\n",
       "288017    1\n",
       "288018    1\n",
       "288019    1\n",
       "288020    1\n",
       "288021    1\n",
       "288022    1\n",
       "288023    1\n",
       "288024    1\n",
       "288026    1\n",
       "288028    1\n",
       "288029    1\n",
       "288030    1\n",
       "288031    1\n",
       "288033    1\n",
       "288034    0\n",
       "288035    1\n",
       "288036    1\n",
       "288040    0\n",
       "288041    1\n",
       "288042    1\n",
       "288043    1\n",
       "Name: notRepairedDamage, dtype: int64"
      ]
     },
     "execution_count": 26,
     "metadata": {},
     "output_type": "execute_result"
    }
   ],
   "source": [
    "cars_encoded['notRepairedDamage']"
   ]
  },
  {
   "cell_type": "code",
   "execution_count": 27,
   "metadata": {
    "collapsed": false
   },
   "outputs": [
    {
     "data": {
      "text/plain": [
       "['ja', 'nein']"
      ]
     },
     "execution_count": 27,
     "metadata": {},
     "output_type": "execute_result"
    }
   ],
   "source": [
    "#수리 여부 : yes(ja) / no(nein)\n",
    "#수리됨 :0 / 수리안됨 : 1\n",
    "list(le_notRepairedDamage.inverse_transform([0, 1]))"
   ]
  },
  {
   "cell_type": "markdown",
   "metadata": {
    "collapsed": true
   },
   "source": [
    "## 회귀계수 표생성"
   ]
  },
  {
   "cell_type": "code",
   "execution_count": 28,
   "metadata": {
    "collapsed": true
   },
   "outputs": [],
   "source": [
    "train_y = cars_encoded.loc[:,'price']"
   ]
  },
  {
   "cell_type": "code",
   "execution_count": 29,
   "metadata": {
    "collapsed": true
   },
   "outputs": [],
   "source": [
    "train_x = cars_encoded.loc[:,cars_encoded.columns!='price']"
   ]
  },
  {
   "cell_type": "code",
   "execution_count": 30,
   "metadata": {
    "collapsed": true
   },
   "outputs": [],
   "source": [
    "#상수항 추가 sm.add_costnat( )\n",
    "predictor = sm.add_constant(train_x)"
   ]
  },
  {
   "cell_type": "code",
   "execution_count": 31,
   "metadata": {
    "collapsed": false
   },
   "outputs": [
    {
     "data": {
      "text/plain": [
       "1     14\n",
       "3    298\n",
       "5    398\n",
       "7    423\n",
       "9    473\n",
       "Name: price, dtype: int64"
      ]
     },
     "execution_count": 31,
     "metadata": {},
     "output_type": "execute_result"
    }
   ],
   "source": [
    "train_y.head()"
   ]
  },
  {
   "cell_type": "code",
   "execution_count": 32,
   "metadata": {
    "collapsed": false
   },
   "outputs": [
    {
     "data": {
      "text/html": [
       "<div>\n",
       "<table border=\"1\" class=\"dataframe\">\n",
       "  <thead>\n",
       "    <tr style=\"text-align: right;\">\n",
       "      <th></th>\n",
       "      <th>const</th>\n",
       "      <th>seller</th>\n",
       "      <th>offerType</th>\n",
       "      <th>vehicleType</th>\n",
       "      <th>yearOfRegistration</th>\n",
       "      <th>gearbox</th>\n",
       "      <th>powerPS</th>\n",
       "      <th>model</th>\n",
       "      <th>kilometer</th>\n",
       "      <th>monthOfRegistration</th>\n",
       "      <th>fuelType</th>\n",
       "      <th>brand</th>\n",
       "      <th>notRepairedDamage</th>\n",
       "    </tr>\n",
       "  </thead>\n",
       "  <tbody>\n",
       "    <tr>\n",
       "      <th>1</th>\n",
       "      <td>1</td>\n",
       "      <td>1</td>\n",
       "      <td>0</td>\n",
       "      <td>4</td>\n",
       "      <td>0</td>\n",
       "      <td>1</td>\n",
       "      <td>53</td>\n",
       "      <td>62</td>\n",
       "      <td>12</td>\n",
       "      <td>0</td>\n",
       "      <td>1</td>\n",
       "      <td>27</td>\n",
       "      <td>0</td>\n",
       "    </tr>\n",
       "    <tr>\n",
       "      <th>3</th>\n",
       "      <td>1</td>\n",
       "      <td>1</td>\n",
       "      <td>0</td>\n",
       "      <td>7</td>\n",
       "      <td>0</td>\n",
       "      <td>1</td>\n",
       "      <td>134</td>\n",
       "      <td>26</td>\n",
       "      <td>12</td>\n",
       "      <td>0</td>\n",
       "      <td>1</td>\n",
       "      <td>14</td>\n",
       "      <td>0</td>\n",
       "    </tr>\n",
       "    <tr>\n",
       "      <th>5</th>\n",
       "      <td>1</td>\n",
       "      <td>1</td>\n",
       "      <td>0</td>\n",
       "      <td>4</td>\n",
       "      <td>0</td>\n",
       "      <td>1</td>\n",
       "      <td>0</td>\n",
       "      <td>118</td>\n",
       "      <td>0</td>\n",
       "      <td>0</td>\n",
       "      <td>1</td>\n",
       "      <td>37</td>\n",
       "      <td>1</td>\n",
       "    </tr>\n",
       "    <tr>\n",
       "      <th>7</th>\n",
       "      <td>1</td>\n",
       "      <td>1</td>\n",
       "      <td>0</td>\n",
       "      <td>3</td>\n",
       "      <td>0</td>\n",
       "      <td>0</td>\n",
       "      <td>168</td>\n",
       "      <td>26</td>\n",
       "      <td>12</td>\n",
       "      <td>0</td>\n",
       "      <td>1</td>\n",
       "      <td>24</td>\n",
       "      <td>1</td>\n",
       "    </tr>\n",
       "    <tr>\n",
       "      <th>9</th>\n",
       "      <td>1</td>\n",
       "      <td>1</td>\n",
       "      <td>0</td>\n",
       "      <td>4</td>\n",
       "      <td>0</td>\n",
       "      <td>1</td>\n",
       "      <td>32</td>\n",
       "      <td>26</td>\n",
       "      <td>12</td>\n",
       "      <td>0</td>\n",
       "      <td>1</td>\n",
       "      <td>27</td>\n",
       "      <td>1</td>\n",
       "    </tr>\n",
       "  </tbody>\n",
       "</table>\n",
       "</div>"
      ],
      "text/plain": [
       "   const  seller  offerType  vehicleType  yearOfRegistration  gearbox  \\\n",
       "1      1       1          0            4                   0        1   \n",
       "3      1       1          0            7                   0        1   \n",
       "5      1       1          0            4                   0        1   \n",
       "7      1       1          0            3                   0        0   \n",
       "9      1       1          0            4                   0        1   \n",
       "\n",
       "   powerPS  model  kilometer  monthOfRegistration  fuelType  brand  \\\n",
       "1       53     62         12                    0         1     27   \n",
       "3      134     26         12                    0         1     14   \n",
       "5        0    118          0                    0         1     37   \n",
       "7      168     26         12                    0         1     24   \n",
       "9       32     26         12                    0         1     27   \n",
       "\n",
       "   notRepairedDamage  \n",
       "1                  0  \n",
       "3                  0  \n",
       "5                  1  \n",
       "7                  1  \n",
       "9                  1  "
      ]
     },
     "execution_count": 32,
     "metadata": {},
     "output_type": "execute_result"
    }
   ],
   "source": [
    "predictor.head()"
   ]
  },
  {
   "cell_type": "code",
   "execution_count": 33,
   "metadata": {
    "collapsed": false
   },
   "outputs": [
    {
     "data": {
      "text/plain": [
       "(244336, 244336)"
      ]
     },
     "execution_count": 33,
     "metadata": {},
     "output_type": "execute_result"
    }
   ],
   "source": [
    "len(train_y), len(predictor)"
   ]
  },
  {
   "cell_type": "code",
   "execution_count": 34,
   "metadata": {
    "collapsed": true
   },
   "outputs": [],
   "source": [
    "OLS = sm.OLS(train_y,predictor)"
   ]
  },
  {
   "cell_type": "code",
   "execution_count": 35,
   "metadata": {
    "collapsed": true
   },
   "outputs": [],
   "source": [
    "myfit = OLS.fit()"
   ]
  },
  {
   "cell_type": "code",
   "execution_count": 38,
   "metadata": {
    "collapsed": false
   },
   "outputs": [
    {
     "name": "stdout",
     "output_type": "stream",
     "text": [
      "                            OLS Regression Results                            \n",
      "==============================================================================\n",
      "Dep. Variable:                  price   R-squared:                       0.743\n",
      "Model:                            OLS   Adj. R-squared:                  0.743\n",
      "Method:                 Least Squares   F-statistic:                 5.898e+04\n",
      "Date:                Fri, 26 May 2017   Prob (F-statistic):               0.00\n",
      "Time:                        05:13:07   Log-Likelihood:            -1.8765e+06\n",
      "No. Observations:              244336   AIC:                         3.753e+06\n",
      "Df Residuals:                  244323   BIC:                         3.753e+06\n",
      "Df Model:                          12                                         \n",
      "Covariance Type:            nonrobust                                         \n",
      "=======================================================================================\n",
      "                          coef    std err          t      P>|t|      [95.0% Conf. Int.]\n",
      "---------------------------------------------------------------------------------------\n",
      "const                -982.4477    523.995     -1.875      0.061     -2009.464    44.568\n",
      "seller                407.3453    523.883      0.778      0.437      -619.452  1434.143\n",
      "offerType            -297.0791    523.886     -0.567      0.571     -1323.881   729.723\n",
      "vehicleType           -22.8743      0.633    -36.122      0.000       -24.115   -21.633\n",
      "yearOfRegistration     77.2651      0.233    331.889      0.000        76.809    77.721\n",
      "gearbox              -183.5832      2.794    -65.711      0.000      -189.059  -178.107\n",
      "powerPS                 6.9649      0.020    346.028      0.000         6.925     7.004\n",
      "model                   0.1886      0.017     10.911      0.000         0.155     0.222\n",
      "kilometer             -91.8638      0.450   -203.949      0.000       -92.747   -90.981\n",
      "monthOfRegistration     1.5402      0.316      4.867      0.000         0.920     2.160\n",
      "fuelType               85.6479      1.064     80.511      0.000        83.563    87.733\n",
      "brand                   0.1092      0.096      1.139      0.255        -0.079     0.297\n",
      "notRepairedDamage     397.7761      3.618    109.957      0.000       390.686   404.866\n",
      "==============================================================================\n",
      "Omnibus:                    41783.659   Durbin-Watson:                   0.798\n",
      "Prob(Omnibus):                  0.000   Jarque-Bera (JB):           294603.978\n",
      "Skew:                           0.641   Prob(JB):                         0.00\n",
      "Kurtosis:                       8.224   Cond. No.                     1.17e+05\n",
      "==============================================================================\n",
      "\n",
      "Warnings:\n",
      "[1] Standard Errors assume that the covariance matrix of the errors is correctly specified.\n",
      "[2] The condition number is large, 1.17e+05. This might indicate that there are\n",
      "strong multicollinearity or other numerical problems.\n"
     ]
    }
   ],
   "source": [
    "print(myfit.summary())"
   ]
  },
  {
   "cell_type": "code",
   "execution_count": null,
   "metadata": {
    "collapsed": true
   },
   "outputs": [],
   "source": []
  }
 ],
 "metadata": {
  "anaconda-cloud": {},
  "kernelspec": {
   "display_name": "Python [default]",
   "language": "python",
   "name": "python3"
  },
  "language_info": {
   "codemirror_mode": {
    "name": "ipython",
    "version": 3
   },
   "file_extension": ".py",
   "mimetype": "text/x-python",
   "name": "python",
   "nbconvert_exporter": "python",
   "pygments_lexer": "ipython3",
   "version": "3.5.2"
  }
 },
 "nbformat": 4,
 "nbformat_minor": 2
}
